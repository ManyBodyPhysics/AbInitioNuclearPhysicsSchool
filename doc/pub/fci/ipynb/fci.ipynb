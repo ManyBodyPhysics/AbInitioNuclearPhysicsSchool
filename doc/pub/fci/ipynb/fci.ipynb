{
 "cells": [
  {
   "cell_type": "markdown",
   "metadata": {},
   "source": [
    "<!-- Slides for PHY981 -->\n",
    "<!-- dom:TITLE: Full Configuration Interaction theory -->\n",
    "# Full Configuration Interaction theory\n",
    "<!-- dom:AUTHOR: Morten Hjorth-Jensen at [National Superconducting Cyclotron Laboratory](http://www.nscl.msu.edu/) and [Department of Physics and Astronomy](https://www.pa.msu.edu/), [Michigan State University](http://www.msu.edu/), East Lansing, MI 48824, USA & Department of Physics, University of Oslo, N-0316 Oslo, Norway -->\n",
    "<!-- Author: --> **Morten Hjorth-Jensen**, [National Superconducting Cyclotron Laboratory](http://www.nscl.msu.edu/) and [Department of Physics and Astronomy](https://www.pa.msu.edu/), [Michigan State University](http://www.msu.edu/), East Lansing, MI 48824, USA and Department of Physics, University of Oslo, N-0316 Oslo, Norway\n",
    "\n",
    "Date: **28th Indian-Summer School on Ab Initio Methods in Nuclear Physics**\n",
    "\n",
    "## Slater determinants as basis states, short reminder\n",
    "The simplest possible choice for many-body wavefunctions are **product** wavefunctions.\n",
    "That is"
   ]
  },
  {
   "cell_type": "markdown",
   "metadata": {},
   "source": [
    "$$\n",
    "\\Psi(x_1, x_2, x_3, \\ldots, x_A) \\approx \\phi_1(x_1) \\phi_2(x_2) \\phi_3(x_3) \\ldots\n",
    "$$"
   ]
  },
  {
   "cell_type": "markdown",
   "metadata": {},
   "source": [
    "because we are really only good  at thinking about one particle at a time. Such \n",
    "product wavefunctions, without correlations, are easy to \n",
    "work with; for example, if the single-particle states $\\phi_i(x)$ are orthonormal, then \n",
    "the product wavefunctions are easy to orthonormalize.   \n",
    "\n",
    "Similarly, computing matrix elements of operators are relatively easy, because the \n",
    "integrals factorize.\n",
    "\n",
    "\n",
    "The price we pay is the lack of correlations, which we must build up by using many, many product \n",
    "wavefunctions. (Thus we have a trade-off: compact representation of correlations but \n",
    "difficult integrals versus easy integrals but many states required.)\n",
    "\n",
    "\n",
    "\n",
    "## Slater determinants as basis states, repetition\n",
    "Because we have fermions, we are required to have antisymmetric wavefunctions, e.g."
   ]
  },
  {
   "cell_type": "markdown",
   "metadata": {},
   "source": [
    "$$\n",
    "\\Psi(x_1, x_2, x_3, \\ldots, x_A) = - \\Psi(x_2, x_1, x_3, \\ldots, x_A)\n",
    "$$"
   ]
  },
  {
   "cell_type": "markdown",
   "metadata": {},
   "source": [
    "etc. This is accomplished formally by using the determinantal formalism"
   ]
  },
  {
   "cell_type": "markdown",
   "metadata": {},
   "source": [
    "$$\n",
    "\\Psi(x_1, x_2, \\ldots, x_A) \n",
    "= \\frac{1}{\\sqrt{A!}} \n",
    "\\det \\left | \n",
    "\\begin{array}{cccc}\n",
    "\\phi_1(x_1) & \\phi_1(x_2) & \\ldots & \\phi_1(x_A) \\\\\n",
    "\\phi_2(x_1) & \\phi_2(x_2) & \\ldots & \\phi_2(x_A) \\\\\n",
    " \\vdots & & &  \\\\\n",
    "\\phi_A(x_1) & \\phi_A(x_2) & \\ldots & \\phi_A(x_A) \n",
    "\\end{array}\n",
    "\\right |\n",
    "$$"
   ]
  },
  {
   "cell_type": "markdown",
   "metadata": {},
   "source": [
    "Product wavefunction + antisymmetry = Slater determinant.\n",
    "\n",
    "\n",
    "\n",
    "## Slater determinants as basis states"
   ]
  },
  {
   "cell_type": "markdown",
   "metadata": {},
   "source": [
    "$$\n",
    "\\Psi(x_1, x_2, \\ldots, x_A) \n",
    "= \\frac{1}{\\sqrt{N!}} \n",
    "\\det \\left | \n",
    "\\begin{array}{cccc}\n",
    "\\phi_1(x_1) & \\phi_1(x_2) & \\ldots & \\phi_1(x_A) \\\\\n",
    "\\phi_2(x_1) & \\phi_2(x_2) & \\ldots & \\phi_2(x_A) \\\\\n",
    " \\vdots & & &  \\\\\n",
    "\\phi_A(x_1) & \\phi_A(x_2) & \\ldots & \\phi_A(x_A) \n",
    "\\end{array}\n",
    "\\right |\n",
    "$$"
   ]
  },
  {
   "cell_type": "markdown",
   "metadata": {},
   "source": [
    "Properties of the determinant (interchange of any two rows or \n",
    "any two columns yields a change in sign; thus no two rows and no \n",
    "two columns can be the same) lead to the Pauli principle:\n",
    "\n",
    "* No two particles can be at the same place (two columns the same); and\n",
    "\n",
    "* No two particles can be in the same state (two rows the same).\n",
    "\n",
    "\n",
    "\n",
    "\n",
    "## Slater determinants as basis states\n",
    "As a practical matter, however, Slater determinants beyond $N=4$ quickly become \n",
    "unwieldy. Thus we turn to the **occupation representation** or **second quantization** to simplify calculations. \n",
    "\n",
    "The occupation representation, using fermion **creation** and **annihilation** \n",
    "operators, is compact and efficient. It is also abstract and, at first encounter, not easy to \n",
    "internalize. It is inspired by other operator formalism, such as the ladder operators for \n",
    "the harmonic oscillator or for angular momentum, but unlike those cases, the operators **do not have coordinate space representations**.\n",
    "\n",
    "Instead, one can think of fermion creation/annihilation operators as a game of symbols that \n",
    "compactly reproduces what one would do, albeit clumsily, with full coordinate-space Slater \n",
    "determinants.\n",
    "\n",
    "\n",
    "\n",
    "## Quick repetition of the occupation representation\n",
    "We start with a set of orthonormal single-particle states $\\{ \\phi_i(x) \\}$. \n",
    "(Note: this requirement, and others, can be relaxed, but leads to a \n",
    "more involved formalism.) **Any** orthonormal set will do. \n",
    "\n",
    "To each single-particle state $\\phi_i(x)$ we associate a creation operator \n",
    "$\\hat{a}^\\dagger_i$ and an annihilation operator $\\hat{a}_i$. \n",
    "\n",
    "When acting on the vacuum state $| 0 \\rangle$, the creation operator $\\hat{a}^\\dagger_i$ causes \n",
    "a particle to occupy the single-particle state $\\phi_i(x)$:"
   ]
  },
  {
   "cell_type": "markdown",
   "metadata": {},
   "source": [
    "$$\n",
    "\\phi_i(x) \\rightarrow \\hat{a}^\\dagger_i |0 \\rangle\n",
    "$$"
   ]
  },
  {
   "cell_type": "markdown",
   "metadata": {},
   "source": [
    "## Quick repetition  of the occupation representation\n",
    "But with multiple creation operators we can occupy multiple states:"
   ]
  },
  {
   "cell_type": "markdown",
   "metadata": {},
   "source": [
    "$$\n",
    "\\phi_i(x) \\phi_j(x^\\prime) \\phi_k(x^{\\prime \\prime}) \n",
    "\\rightarrow \\hat{a}^\\dagger_i \\hat{a}^\\dagger_j \\hat{a}^\\dagger_k |0 \\rangle.\n",
    "$$"
   ]
  },
  {
   "cell_type": "markdown",
   "metadata": {},
   "source": [
    "Now we impose antisymmetry, by having the fermion operators satisfy  **anticommutation relations**:"
   ]
  },
  {
   "cell_type": "markdown",
   "metadata": {},
   "source": [
    "$$\n",
    "\\hat{a}^\\dagger_i \\hat{a}^\\dagger_j + \\hat{a}^\\dagger_j \\hat{a}^\\dagger_i\n",
    "= [ \\hat{a}^\\dagger_i ,\\hat{a}^\\dagger_j ]_+ \n",
    "= \\{ \\hat{a}^\\dagger_i ,\\hat{a}^\\dagger_j \\} = 0\n",
    "$$"
   ]
  },
  {
   "cell_type": "markdown",
   "metadata": {},
   "source": [
    "so that"
   ]
  },
  {
   "cell_type": "markdown",
   "metadata": {},
   "source": [
    "$$\n",
    "\\hat{a}^\\dagger_i \\hat{a}^\\dagger_j = - \\hat{a}^\\dagger_j \\hat{a}^\\dagger_i\n",
    "$$"
   ]
  },
  {
   "cell_type": "markdown",
   "metadata": {},
   "source": [
    "## Quick repetition  of the occupation representation\n",
    "Because of this property, automatically $\\hat{a}^\\dagger_i \\hat{a}^\\dagger_i = 0$, \n",
    "enforcing the Pauli exclusion principle.  Thus when writing a Slater determinant \n",
    "using creation operators,"
   ]
  },
  {
   "cell_type": "markdown",
   "metadata": {},
   "source": [
    "$$\n",
    "\\hat{a}^\\dagger_i \\hat{a}^\\dagger_j \\hat{a}^\\dagger_k \\ldots |0 \\rangle\n",
    "$$"
   ]
  },
  {
   "cell_type": "markdown",
   "metadata": {},
   "source": [
    "each index $i,j,k, \\ldots$ must be unique.\n",
    "\n",
    "\n",
    "\n",
    "\n",
    "## Full Configuration Interaction Theory\n",
    "We have defined the ansatz for the ground state as"
   ]
  },
  {
   "cell_type": "markdown",
   "metadata": {},
   "source": [
    "$$\n",
    "|\\Phi_0\\rangle = \\left(\\prod_{i\\le F}\\hat{a}_{i}^{\\dagger}\\right)|0\\rangle,\n",
    "$$"
   ]
  },
  {
   "cell_type": "markdown",
   "metadata": {},
   "source": [
    "where the index $i$ defines different single-particle states up to the Fermi level. We have assumed that we have $N$ fermions. \n",
    "A given one-particle-one-hole ($1p1h$) state can be written as"
   ]
  },
  {
   "cell_type": "markdown",
   "metadata": {},
   "source": [
    "$$\n",
    "|\\Phi_i^a\\rangle = \\hat{a}_{a}^{\\dagger}\\hat{a}_i|\\Phi_0\\rangle,\n",
    "$$"
   ]
  },
  {
   "cell_type": "markdown",
   "metadata": {},
   "source": [
    "while a $2p2h$ state can be written as"
   ]
  },
  {
   "cell_type": "markdown",
   "metadata": {},
   "source": [
    "$$\n",
    "|\\Phi_{ij}^{ab}\\rangle = \\hat{a}_{a}^{\\dagger}\\hat{a}_{b}^{\\dagger}\\hat{a}_j\\hat{a}_i|\\Phi_0\\rangle,\n",
    "$$"
   ]
  },
  {
   "cell_type": "markdown",
   "metadata": {},
   "source": [
    "and a general $NpNh$ state as"
   ]
  },
  {
   "cell_type": "markdown",
   "metadata": {},
   "source": [
    "$$\n",
    "|\\Phi_{ijk\\dots}^{abc\\dots}\\rangle = \\hat{a}_{a}^{\\dagger}\\hat{a}_{b}^{\\dagger}\\hat{a}_{c}^{\\dagger}\\dots\\hat{a}_k\\hat{a}_j\\hat{a}_i|\\Phi_0\\rangle.\n",
    "$$"
   ]
  },
  {
   "cell_type": "markdown",
   "metadata": {},
   "source": [
    "## Full Configuration Interaction Theory\n",
    "We can then expand our exact state function for the ground state \n",
    "as"
   ]
  },
  {
   "cell_type": "markdown",
   "metadata": {},
   "source": [
    "$$\n",
    "|\\Psi_0\\rangle=C_0|\\Phi_0\\rangle+\\sum_{ai}C_i^a|\\Phi_i^a\\rangle+\\sum_{abij}C_{ij}^{ab}|\\Phi_{ij}^{ab}\\rangle+\\dots\n",
    "=(C_0+\\hat{C})|\\Phi_0\\rangle,\n",
    "$$"
   ]
  },
  {
   "cell_type": "markdown",
   "metadata": {},
   "source": [
    "where we have introduced the so-called correlation operator"
   ]
  },
  {
   "cell_type": "markdown",
   "metadata": {},
   "source": [
    "$$\n",
    "\\hat{C}=\\sum_{ai}C_i^a\\hat{a}_{a}^{\\dagger}\\hat{a}_i  +\\sum_{abij}C_{ij}^{ab}\\hat{a}_{a}^{\\dagger}\\hat{a}_{b}^{\\dagger}\\hat{a}_j\\hat{a}_i+\\dots\n",
    "$$"
   ]
  },
  {
   "cell_type": "markdown",
   "metadata": {},
   "source": [
    "Since the normalization of $\\Psi_0$ is at our disposal and since $C_0$ is by hypothesis non-zero, we may arbitrarily set $C_0=1$ with \n",
    "corresponding proportional changes in all other coefficients. Using this so-called intermediate normalization we have"
   ]
  },
  {
   "cell_type": "markdown",
   "metadata": {},
   "source": [
    "$$\n",
    "\\langle \\Psi_0 | \\Phi_0 \\rangle = \\langle \\Phi_0 | \\Phi_0 \\rangle = 1,\n",
    "$$"
   ]
  },
  {
   "cell_type": "markdown",
   "metadata": {},
   "source": [
    "resulting in"
   ]
  },
  {
   "cell_type": "markdown",
   "metadata": {},
   "source": [
    "$$\n",
    "|\\Psi_0\\rangle=(1+\\hat{C})|\\Phi_0\\rangle.\n",
    "$$"
   ]
  },
  {
   "cell_type": "markdown",
   "metadata": {},
   "source": [
    "## Full Configuration Interaction Theory\n",
    "We rewrite"
   ]
  },
  {
   "cell_type": "markdown",
   "metadata": {},
   "source": [
    "$$\n",
    "|\\Psi_0\\rangle=C_0|\\Phi_0\\rangle+\\sum_{ai}C_i^a|\\Phi_i^a\\rangle+\\sum_{abij}C_{ij}^{ab}|\\Phi_{ij}^{ab}\\rangle+\\dots,\n",
    "$$"
   ]
  },
  {
   "cell_type": "markdown",
   "metadata": {},
   "source": [
    "in a more compact form as"
   ]
  },
  {
   "cell_type": "markdown",
   "metadata": {},
   "source": [
    "$$\n",
    "|\\Psi_0\\rangle=\\sum_{PH}C_H^P\\Phi_H^P=\\left(\\sum_{PH}C_H^P\\hat{A}_H^P\\right)|\\Phi_0\\rangle,\n",
    "$$"
   ]
  },
  {
   "cell_type": "markdown",
   "metadata": {},
   "source": [
    "where $H$ stands for $0,1,\\dots,n$ hole states and $P$ for $0,1,\\dots,n$ particle states. \n",
    "Our requirement of unit normalization gives"
   ]
  },
  {
   "cell_type": "markdown",
   "metadata": {},
   "source": [
    "$$\n",
    "\\langle \\Psi_0 | \\Phi_0 \\rangle = \\sum_{PH}|C_H^P|^2= 1,\n",
    "$$"
   ]
  },
  {
   "cell_type": "markdown",
   "metadata": {},
   "source": [
    "and the energy can be written as"
   ]
  },
  {
   "cell_type": "markdown",
   "metadata": {},
   "source": [
    "$$\n",
    "E= \\langle \\Psi_0 | \\hat{H} |\\Phi_0 \\rangle= \\sum_{PP'HH'}C_H^{*P}\\langle \\Phi_H^P | \\hat{H} |\\Phi_{H'}^{P'} \\rangle C_{H'}^{P'}.\n",
    "$$"
   ]
  },
  {
   "cell_type": "markdown",
   "metadata": {},
   "source": [
    "## Full Configuration Interaction Theory\n",
    "Normally"
   ]
  },
  {
   "cell_type": "markdown",
   "metadata": {},
   "source": [
    "$$\n",
    "E= \\langle \\Psi_0 | \\hat{H} |\\Phi_0 \\rangle= \\sum_{PP'HH'}C_H^{*P}\\langle \\Phi_H^P | \\hat{H} |\\Phi_{H'}^{P'} \\rangle C_{H'}^{P'},\n",
    "$$"
   ]
  },
  {
   "cell_type": "markdown",
   "metadata": {},
   "source": [
    "is solved by diagonalization setting up the Hamiltonian matrix defined by the basis of all possible Slater determinants. A diagonalization\n",
    "<!-- to do: add text about Rayleigh-Ritz -->\n",
    "is equivalent to finding the variational minimum   of"
   ]
  },
  {
   "cell_type": "markdown",
   "metadata": {},
   "source": [
    "$$\n",
    "\\langle \\Psi_0 | \\hat{H} |\\Phi_0 \\rangle-\\lambda \\langle \\Psi_0 |\\Phi_0 \\rangle,\n",
    "$$"
   ]
  },
  {
   "cell_type": "markdown",
   "metadata": {},
   "source": [
    "where $\\lambda$ is a variational multiplier to be identified with the energy of the system.\n",
    "The minimization process results in"
   ]
  },
  {
   "cell_type": "markdown",
   "metadata": {},
   "source": [
    "2\n",
    "3\n",
    " \n",
    "<\n",
    "<\n",
    "<\n",
    "!\n",
    "!\n",
    "M\n",
    "A\n",
    "T\n",
    "H\n",
    "_\n",
    "B\n",
    "L\n",
    "O\n",
    "C\n",
    "K"
   ]
  },
  {
   "cell_type": "markdown",
   "metadata": {},
   "source": [
    "$$\n",
    "\\sum_{P'H'}\\left\\{\\delta[C_H^{*P}]\\langle \\Phi_H^P | \\hat{H} |\\Phi_{H'}^{P'} \\rangle C_{H'}^{P'}+\n",
    "C_H^{*P}\\langle \\Phi_H^P | \\hat{H} |\\Phi_{H'}^{P'} \\rangle \\delta[C_{H'}^{P'}]-\n",
    "\\lambda( \\delta[C_H^{*P}]C_{H'}^{P'}+C_H^{*P}\\delta[C_{H'}^{P'}]\\right\\} = 0.\n",
    "$$"
   ]
  },
  {
   "cell_type": "markdown",
   "metadata": {},
   "source": [
    "Since the coefficients $\\delta[C_H^{*P}]$ and $\\delta[C_{H'}^{P'}]$ are complex conjugates it is necessary and sufficient to require the quantities that multiply with $\\delta[C_H^{*P}]$ to vanish.\n",
    "\n",
    "\n",
    "\n",
    "\n",
    "\n",
    "## Full Configuration Interaction Theory\n",
    "\n",
    "This leads to"
   ]
  },
  {
   "cell_type": "markdown",
   "metadata": {},
   "source": [
    "$$\n",
    "\\sum_{P'H'}\\langle \\Phi_H^P | \\hat{H} |\\Phi_{H'}^{P'} \\rangle C_{H'}^{P'}-\\lambda C_H^{P}=0,\n",
    "$$"
   ]
  },
  {
   "cell_type": "markdown",
   "metadata": {},
   "source": [
    "for all sets of $P$ and $H$.\n",
    "\n",
    "If we then multiply by the corresponding $C_H^{*P}$ and sum over $PH$ we obtain"
   ]
  },
  {
   "cell_type": "markdown",
   "metadata": {},
   "source": [
    "$$\n",
    "\\sum_{PP'HH'}C_H^{*P}\\langle \\Phi_H^P | \\hat{H} |\\Phi_{H'}^{P'} \\rangle C_{H'}^{P'}-\\lambda\\sum_{PH}|C_H^P|^2=0,\n",
    "$$"
   ]
  },
  {
   "cell_type": "markdown",
   "metadata": {},
   "source": [
    "leading to the identification $\\lambda = E$. This means that we have for all $PH$ sets"
   ]
  },
  {
   "cell_type": "markdown",
   "metadata": {},
   "source": [
    "<!-- Equation labels as ordinary links -->\n",
    "<div id=\"eq:fullci\"></div>\n",
    "\n",
    "$$\n",
    "\\begin{equation}\n",
    "\\sum_{P'H'}\\langle \\Phi_H^P | \\hat{H} -E|\\Phi_{H'}^{P'} \\rangle = 0. \\label{eq:fullci} \\tag{1}\n",
    "\\end{equation}\n",
    "$$"
   ]
  },
  {
   "cell_type": "markdown",
   "metadata": {},
   "source": [
    "## Full Configuration Interaction Theory\n",
    "An alternative way to derive the last equation is to start from"
   ]
  },
  {
   "cell_type": "markdown",
   "metadata": {},
   "source": [
    "$$\n",
    "(\\hat{H} -E)|\\Psi_0\\rangle = (\\hat{H} -E)\\sum_{P'H'}C_{H'}^{P'}|\\Phi_{H'}^{P'} \\rangle=0,\n",
    "$$"
   ]
  },
  {
   "cell_type": "markdown",
   "metadata": {},
   "source": [
    "and if this equation is successively projected against all $\\Phi_H^P$ in the expansion of $\\Psi$, then the last equation on the previous slide\n",
    "results.   As stated previously, one solves this equation normally by diagonalization. If we are able to solve this equation exactly (that is\n",
    "numerically exactly) in a large Hilbert space (it will be truncated in terms of the number of single-particle states included in the definition\n",
    "of Slater determinants), it can then serve as a benchmark for other many-body methods which approximate the correlation operator\n",
    "$\\hat{C}$.\n",
    "\n",
    "\n",
    "\n",
    "\n",
    "## Example of a Hamiltonian matrix\n",
    "Suppose, as an example, that we have six fermions below the Fermi level.\n",
    "This means that we can make at most $6p-6h$ excitations. If we have an infinity of single particle states above the Fermi level, we will obviously have an infinity of say $2p-2h$ excitations. Each such way to configure the particles is called a **configuration**. We will always have to truncate in the basis of single-particle states.\n",
    "This gives us a finite number of possible Slater determinants. Our Hamiltonian matrix would then look like (where each block can have a large dimensionalities):\n",
    "\n",
    "<table border=\"1\">\n",
    "<thead>\n",
    "<tr><th align=\"center\">       </th> <th align=\"center\">$0p-0h$</th> <th align=\"center\">$1p-1h$</th> <th align=\"center\">$2p-2h$</th> <th align=\"center\">$3p-3h$</th> <th align=\"center\">$4p-4h$</th> <th align=\"center\">$5p-5h$</th> <th align=\"center\">$6p-6h$</th> </tr>\n",
    "</thead>\n",
    "<tbody>\n",
    "<tr><td align=\"center\">   $0p-0h$    </td> <td align=\"center\">   x          </td> <td align=\"center\">   x          </td> <td align=\"center\">   x          </td> <td align=\"center\">   0          </td> <td align=\"center\">   0          </td> <td align=\"center\">   0          </td> <td align=\"center\">   0          </td> </tr>\n",
    "<tr><td align=\"center\">   $1p-1h$    </td> <td align=\"center\">   x          </td> <td align=\"center\">   x          </td> <td align=\"center\">   x          </td> <td align=\"center\">   x          </td> <td align=\"center\">   0          </td> <td align=\"center\">   0          </td> <td align=\"center\">   0          </td> </tr>\n",
    "<tr><td align=\"center\">   $2p-2h$    </td> <td align=\"center\">   x          </td> <td align=\"center\">   x          </td> <td align=\"center\">   x          </td> <td align=\"center\">   x          </td> <td align=\"center\">   x          </td> <td align=\"center\">   0          </td> <td align=\"center\">   0          </td> </tr>\n",
    "<tr><td align=\"center\">   $3p-3h$    </td> <td align=\"center\">   0          </td> <td align=\"center\">   x          </td> <td align=\"center\">   x          </td> <td align=\"center\">   x          </td> <td align=\"center\">   x          </td> <td align=\"center\">   x          </td> <td align=\"center\">   0          </td> </tr>\n",
    "<tr><td align=\"center\">   $4p-4h$    </td> <td align=\"center\">   0          </td> <td align=\"center\">   0          </td> <td align=\"center\">   x          </td> <td align=\"center\">   x          </td> <td align=\"center\">   x          </td> <td align=\"center\">   x          </td> <td align=\"center\">   x          </td> </tr>\n",
    "<tr><td align=\"center\">   $5p-5h$    </td> <td align=\"center\">   0          </td> <td align=\"center\">   0          </td> <td align=\"center\">   0          </td> <td align=\"center\">   x          </td> <td align=\"center\">   x          </td> <td align=\"center\">   x          </td> <td align=\"center\">   x          </td> </tr>\n",
    "<tr><td align=\"center\">   $6p-6h$    </td> <td align=\"center\">   0          </td> <td align=\"center\">   0          </td> <td align=\"center\">   0          </td> <td align=\"center\">   0          </td> <td align=\"center\">   x          </td> <td align=\"center\">   x          </td> <td align=\"center\">   x          </td> </tr>\n",
    "</tbody>\n",
    "</table>\n",
    "with a two-body force. Why are there non-zero blocks of elements?\n",
    "\n",
    "\n",
    "\n",
    "## Example of a Hamiltonian matrix with a Hartree-Fock basis\n",
    "If we use a Hartree-Fock basis, this corresponds to a particular unitary transformation where matrix elements of the type $\\langle 0p-0h \\vert \\hat{H} \\vert 1p-1h\\rangle =\\langle \\Phi_0 | \\hat{H}|\\Phi_{i}^{a}\\rangle=0$ and our Hamiltonian matrix becomes \n",
    "\n",
    "<table border=\"1\">\n",
    "<thead>\n",
    "<tr><th align=\"center\">       </th> <th align=\"center\">  $0p-0h$  </th> <th align=\"center\">  $1p-1h$  </th> <th align=\"center\">  $2p-2h$  </th> <th align=\"center\">  $3p-3h$  </th> <th align=\"center\">  $4p-4h$  </th> <th align=\"center\">  $5p-5h$  </th> <th align=\"center\">  $6p-6h$  </th> </tr>\n",
    "</thead>\n",
    "<tbody>\n",
    "<tr><td align=\"center\">   $0p-0h$    </td> <td align=\"center\">   $\\tilde{x}$    </td> <td align=\"center\">   0              </td> <td align=\"center\">   $\\tilde{x}$    </td> <td align=\"center\">   0              </td> <td align=\"center\">   0              </td> <td align=\"center\">   0              </td> <td align=\"center\">   0              </td> </tr>\n",
    "<tr><td align=\"center\">   $1p-1h$    </td> <td align=\"center\">   0              </td> <td align=\"center\">   $\\tilde{x}$    </td> <td align=\"center\">   $\\tilde{x}$    </td> <td align=\"center\">   $\\tilde{x}$    </td> <td align=\"center\">   0              </td> <td align=\"center\">   0              </td> <td align=\"center\">   0              </td> </tr>\n",
    "<tr><td align=\"center\">   $2p-2h$    </td> <td align=\"center\">   $\\tilde{x}$    </td> <td align=\"center\">   $\\tilde{x}$    </td> <td align=\"center\">   $\\tilde{x}$    </td> <td align=\"center\">   $\\tilde{x}$    </td> <td align=\"center\">   $\\tilde{x}$    </td> <td align=\"center\">   0              </td> <td align=\"center\">   0              </td> </tr>\n",
    "<tr><td align=\"center\">   $3p-3h$    </td> <td align=\"center\">   0              </td> <td align=\"center\">   $\\tilde{x}$    </td> <td align=\"center\">   $\\tilde{x}$    </td> <td align=\"center\">   $\\tilde{x}$    </td> <td align=\"center\">   $\\tilde{x}$    </td> <td align=\"center\">   $\\tilde{x}$    </td> <td align=\"center\">   0              </td> </tr>\n",
    "<tr><td align=\"center\">   $4p-4h$    </td> <td align=\"center\">   0              </td> <td align=\"center\">   0              </td> <td align=\"center\">   $\\tilde{x}$    </td> <td align=\"center\">   $\\tilde{x}$    </td> <td align=\"center\">   $\\tilde{x}$    </td> <td align=\"center\">   $\\tilde{x}$    </td> <td align=\"center\">   $\\tilde{x}$    </td> </tr>\n",
    "<tr><td align=\"center\">   $5p-5h$    </td> <td align=\"center\">   0              </td> <td align=\"center\">   0              </td> <td align=\"center\">   0              </td> <td align=\"center\">   $\\tilde{x}$    </td> <td align=\"center\">   $\\tilde{x}$    </td> <td align=\"center\">   $\\tilde{x}$    </td> <td align=\"center\">   $\\tilde{x}$    </td> </tr>\n",
    "<tr><td align=\"center\">   $6p-6h$    </td> <td align=\"center\">   0              </td> <td align=\"center\">   0              </td> <td align=\"center\">   0              </td> <td align=\"center\">   0              </td> <td align=\"center\">   $\\tilde{x}$    </td> <td align=\"center\">   $\\tilde{x}$    </td> <td align=\"center\">   $\\tilde{x}$    </td> </tr>\n",
    "</tbody>\n",
    "</table>\n",
    "\n",
    "\n",
    "\n",
    "\n",
    "## Shell-model jargon\n",
    "If we do not make any truncations in the possible sets of Slater determinants (many-body states) we can make by distributing $A$ nucleons among $n$ single-particle states, we call such a calculation for **Full configuration interaction theory**\n",
    "\n",
    "If we make truncations, we have different possibilities\n",
    "\n",
    "* The standard nuclear shell-model. Here we define an effective Hilbert space with respect to a given core. The calculations are normally then performed for all many-body states that can be constructed from the effective Hilbert spaces. This approach requires a properly defined effective Hamiltonian\n",
    "\n",
    "* We can truncate in the number of excitations. For example, we can limit the possible Slater determinants to only $1p-1h$ and $2p-2h$ excitations. This is called a configuration interaction calculation at the level of singles and doubles excitations, or just CISD. \n",
    "\n",
    "* We can limit the number of excitations in terms of the excitation energies. If we do not define a core, this defines normally what is called the no-core shell-model approach. \n",
    "\n",
    "What happens if we have a three-body interaction and a Hartree-Fock basis?\n",
    "\n",
    "\n",
    "\n",
    "## FCI and the exponential growth\n",
    "Full configuration interaction theory calculations provide in principle, if we can diagonalize numerically, all states of interest. The dimensionality of the problem explodes however quickly.\n",
    "\n",
    "The total number of Slater determinants which can be built with say $N$ neutrons distributed among $n$ single particle states is"
   ]
  },
  {
   "cell_type": "markdown",
   "metadata": {},
   "source": [
    "$$\n",
    "\\left (\\begin{array}{c} n \\\\ N\\end{array} \\right) =\\frac{n!}{(n-N)!N!}.\n",
    "$$"
   ]
  },
  {
   "cell_type": "markdown",
   "metadata": {},
   "source": [
    "As an example, for a model space which comprises the first four\n",
    "  major harmonic oscillator shells only, that is the $0s$, $0p$,\n",
    "  $1s0d$ and $1p0f$ shells we have $40$ single particle states for\n",
    "  neutrons and protons.  For the eight neutrons of oxygen-16 we would\n",
    "  then have"
   ]
  },
  {
   "cell_type": "markdown",
   "metadata": {},
   "source": [
    "$$\n",
    "\\left (\\begin{array}{c} 40 \\\\ 8\\end{array} \\right)\n",
    "    =\\frac{40!}{(32)!8!}\\sim 8\\times 10^{7},\n",
    "$$"
   ]
  },
  {
   "cell_type": "markdown",
   "metadata": {},
   "source": [
    "possible Slater determinants. Multiplying this with the number of\n",
    "  proton Slater determinants we end up with approximately $d\\sim 10^{15}$ \n",
    "  possible Slater determinants and a Hamiltonian matrix of\n",
    "  dimension $10^{15}\\times 10^{15}$, an intractable problem if we wish to diagonalize the Hamiltonian matrix.\n",
    "\n",
    "\n",
    "\n",
    "\n",
    "## Exponential wall\n",
    "This number can be reduced if we look at specific symmetries only. However, the dimensionality explodes quickly!\n",
    "\n",
    "* For Hamiltonian matrices of dimensionalities  which are smaller than $d\\sim 10^5$, we would use so-called direct methods for diagonalizing the Hamiltonian matrix\n",
    "\n",
    "* For larger dimensionalities iterative eigenvalue solvers like Lanczos' method are used. The most efficient codes at present can handle matrices of $d\\sim 10^{10}$.\n",
    "\n",
    "\n",
    "\n",
    "\n",
    "<!-- !split  -->\n",
    "## A non-practical way of solving the eigenvalue problem\n",
    "To see this, we look at the contributions arising from"
   ]
  },
  {
   "cell_type": "markdown",
   "metadata": {},
   "source": [
    "$$\n",
    "\\langle \\Phi_H^P | = \\langle \\Phi_0|\n",
    "$$"
   ]
  },
  {
   "cell_type": "markdown",
   "metadata": {},
   "source": [
    "in  Eq. ([eq:fullci](#eq:fullci)), that is we multiply with $\\langle \\Phi_0 |$\n",
    "from the left in"
   ]
  },
  {
   "cell_type": "markdown",
   "metadata": {},
   "source": [
    "$$\n",
    "(\\hat{H} -E)\\sum_{P'H'}C_{H'}^{P'}|\\Phi_{H'}^{P'} \\rangle=0.\n",
    "$$"
   ]
  },
  {
   "cell_type": "markdown",
   "metadata": {},
   "source": [
    "If we assume that we have a two-body operator at most, Slater's rule gives then an equation for the \n",
    "correlation energy in terms of $C_i^a$ and $C_{ij}^{ab}$ only.  We get then"
   ]
  },
  {
   "cell_type": "markdown",
   "metadata": {},
   "source": [
    "$$\n",
    "\\langle \\Phi_0 | \\hat{H} -E| \\Phi_0\\rangle + \\sum_{ai}\\langle \\Phi_0 | \\hat{H} -E|\\Phi_{i}^{a} \\rangle C_{i}^{a}+\n",
    "\\sum_{abij}\\langle \\Phi_0 | \\hat{H} -E|\\Phi_{ij}^{ab} \\rangle C_{ij}^{ab}=0,\n",
    "$$"
   ]
  },
  {
   "cell_type": "markdown",
   "metadata": {},
   "source": [
    "or"
   ]
  },
  {
   "cell_type": "markdown",
   "metadata": {},
   "source": [
    "$$\n",
    "E-E_0 =\\Delta E=\\sum_{ai}\\langle \\Phi_0 | \\hat{H}|\\Phi_{i}^{a} \\rangle C_{i}^{a}+\n",
    "\\sum_{abij}\\langle \\Phi_0 | \\hat{H}|\\Phi_{ij}^{ab} \\rangle C_{ij}^{ab},\n",
    "$$"
   ]
  },
  {
   "cell_type": "markdown",
   "metadata": {},
   "source": [
    "where the energy $E_0$ is the reference energy and $\\Delta E$ defines the so-called correlation energy.\n",
    "The single-particle basis functions  could be the results of a Hartree-Fock calculation or just the eigenstates of the non-interacting part of the Hamiltonian.\n",
    "\n",
    "\n",
    "\n",
    "\n",
    "<!-- !split  -->\n",
    "## A non-practical way of solving the eigenvalue problem\n",
    "To see this, we look at the contributions arising from"
   ]
  },
  {
   "cell_type": "markdown",
   "metadata": {},
   "source": [
    "$$\n",
    "\\langle \\Phi_H^P | = \\langle \\Phi_0|\n",
    "$$"
   ]
  },
  {
   "cell_type": "markdown",
   "metadata": {},
   "source": [
    "in  Eq. ([eq:fullci](#eq:fullci)), that is we multiply with $\\langle \\Phi_0 |$\n",
    "from the left in"
   ]
  },
  {
   "cell_type": "markdown",
   "metadata": {},
   "source": [
    "$$\n",
    "(\\hat{H} -E)\\sum_{P'H'}C_{H'}^{P'}|\\Phi_{H'}^{P'} \\rangle=0.\n",
    "$$"
   ]
  },
  {
   "cell_type": "markdown",
   "metadata": {},
   "source": [
    "<!-- !split  -->\n",
    "## A non-practical way of solving the eigenvalue problem\n",
    "If we assume that we have a two-body operator at most, Slater's rule gives then an equation for the \n",
    "correlation energy in terms of $C_i^a$ and $C_{ij}^{ab}$ only.  We get then"
   ]
  },
  {
   "cell_type": "markdown",
   "metadata": {},
   "source": [
    "$$\n",
    "\\langle \\Phi_0 | \\hat{H} -E| \\Phi_0\\rangle + \\sum_{ai}\\langle \\Phi_0 | \\hat{H} -E|\\Phi_{i}^{a} \\rangle C_{i}^{a}+\n",
    "\\sum_{abij}\\langle \\Phi_0 | \\hat{H} -E|\\Phi_{ij}^{ab} \\rangle C_{ij}^{ab}=0,\n",
    "$$"
   ]
  },
  {
   "cell_type": "markdown",
   "metadata": {},
   "source": [
    "or"
   ]
  },
  {
   "cell_type": "markdown",
   "metadata": {},
   "source": [
    "$$\n",
    "E-E_0 =\\Delta E=\\sum_{ai}\\langle \\Phi_0 | \\hat{H}|\\Phi_{i}^{a} \\rangle C_{i}^{a}+\n",
    "\\sum_{abij}\\langle \\Phi_0 | \\hat{H}|\\Phi_{ij}^{ab} \\rangle C_{ij}^{ab},\n",
    "$$"
   ]
  },
  {
   "cell_type": "markdown",
   "metadata": {},
   "source": [
    "where the energy $E_0$ is the reference energy and $\\Delta E$ defines the so-called correlation energy.\n",
    "The single-particle basis functions  could be the results of a Hartree-Fock calculation or just the eigenstates of the non-interacting part of the Hamiltonian.\n",
    "\n",
    "\n",
    "\n",
    "\n",
    "\n",
    "## Rewriting the FCI equation\n",
    "In our notes on Hartree-Fock calculations, \n",
    "we have already computed the matrix $\\langle \\Phi_0 | \\hat{H}|\\Phi_{i}^{a}\\rangle $ and $\\langle \\Phi_0 | \\hat{H}|\\Phi_{ij}^{ab}\\rangle$.  If we are using a Hartree-Fock basis, then the matrix elements\n",
    "$\\langle \\Phi_0 | \\hat{H}|\\Phi_{i}^{a}\\rangle=0$ and we are left with a *correlation energy* given by"
   ]
  },
  {
   "cell_type": "markdown",
   "metadata": {},
   "source": [
    "$$\n",
    "E-E_0 =\\Delta E^{HF}=\\sum_{abij}\\langle \\Phi_0 | \\hat{H}|\\Phi_{ij}^{ab} \\rangle C_{ij}^{ab}.\n",
    "$$"
   ]
  },
  {
   "cell_type": "markdown",
   "metadata": {},
   "source": [
    "## Rewriting the FCI equation\n",
    "Inserting the various matrix elements we can rewrite the previous equation as"
   ]
  },
  {
   "cell_type": "markdown",
   "metadata": {},
   "source": [
    "$$\n",
    "\\Delta E=\\sum_{ai}\\langle i| \\hat{f}|a \\rangle C_{i}^{a}+\n",
    "\\sum_{abij}\\langle ij | \\hat{v}| ab \\rangle C_{ij}^{ab}.\n",
    "$$"
   ]
  },
  {
   "cell_type": "markdown",
   "metadata": {},
   "source": [
    "This equation determines the correlation energy but not the coefficients $C$.\n",
    "\n",
    "\n",
    "\n",
    "## Rewriting the FCI equation, does not stop here\n",
    "We need more equations. Our next step is to set up"
   ]
  },
  {
   "cell_type": "markdown",
   "metadata": {},
   "source": [
    "$$\n",
    "\\langle \\Phi_i^a | \\hat{H} -E| \\Phi_0\\rangle + \\sum_{bj}\\langle \\Phi_i^a | \\hat{H} -E|\\Phi_{j}^{b} \\rangle C_{j}^{b}+\n",
    "\\sum_{bcjk}\\langle \\Phi_i^a | \\hat{H} -E|\\Phi_{jk}^{bc} \\rangle C_{jk}^{bc}+\n",
    "\\sum_{bcdjkl}\\langle \\Phi_i^a | \\hat{H} -E|\\Phi_{jkl}^{bcd} \\rangle C_{jkl}^{bcd}=0,\n",
    "$$"
   ]
  },
  {
   "cell_type": "markdown",
   "metadata": {},
   "source": [
    "as this equation will allow us to find an expression for the coefficents $C_i^a$ since we can rewrite this equation as"
   ]
  },
  {
   "cell_type": "markdown",
   "metadata": {},
   "source": [
    "$$\n",
    "\\langle i | \\hat{f}| a\\rangle +\\langle \\Phi_i^a | \\hat{H}|\\Phi_{i}^{a} \\rangle C_{i}^{a}+ \\sum_{bj\\ne ai}\\langle \\Phi_i^a | \\hat{H}|\\Phi_{j}^{b} \\rangle C_{j}^{b}+\n",
    "\\sum_{bcjk}\\langle \\Phi_i^a | \\hat{H}|\\Phi_{jk}^{bc} \\rangle C_{jk}^{bc}+\n",
    "\\sum_{bcdjkl}\\langle \\Phi_i^a | \\hat{H}|\\Phi_{jkl}^{bcd} \\rangle C_{jkl}^{bcd}=EC_i^a.\n",
    "$$"
   ]
  },
  {
   "cell_type": "markdown",
   "metadata": {},
   "source": [
    "## Rewriting the FCI equation, please stop here\n",
    "We see that on the right-hand side we have the energy $E$. This leads to a non-linear equation in the unknown coefficients. \n",
    "These equations are normally solved iteratively ( that is we can start with a guess for the coefficients $C_i^a$). A common choice is to use perturbation theory for the first guess, setting thereby"
   ]
  },
  {
   "cell_type": "markdown",
   "metadata": {},
   "source": [
    "$$\n",
    "C_{i}^{a}=\\frac{\\langle i | \\hat{f}| a\\rangle}{\\epsilon_i-\\epsilon_a}.\n",
    "$$"
   ]
  },
  {
   "cell_type": "markdown",
   "metadata": {},
   "source": [
    "## Rewriting the FCI equation, more to add\n",
    "The observant reader will however see that we need an equation for $C_{jk}^{bc}$ and $C_{jkl}^{bcd}$ as well.\n",
    "To find equations for these coefficients we need then to continue our multiplications from the left with the various\n",
    "$\\Phi_{H}^P$ terms. \n",
    "\n",
    "\n",
    "For $C_{jk}^{bc}$ we need then"
   ]
  },
  {
   "cell_type": "markdown",
   "metadata": {},
   "source": [
    "4\n",
    "4\n",
    " \n",
    "<\n",
    "<\n",
    "<\n",
    "!\n",
    "!\n",
    "M\n",
    "A\n",
    "T\n",
    "H\n",
    "_\n",
    "B\n",
    "L\n",
    "O\n",
    "C\n",
    "K"
   ]
  },
  {
   "cell_type": "markdown",
   "metadata": {},
   "source": [
    "$$\n",
    "\\sum_{cdkl}\\langle \\Phi_{ij}^{ab} | \\hat{H} -E|\\Phi_{kl}^{cd} \\rangle C_{kl}^{cd}+\\sum_{cdeklm}\\langle \\Phi_{ij}^{ab} | \\hat{H} -E|\\Phi_{klm}^{cde} \\rangle C_{klm}^{cde}+\\sum_{cdefklmn}\\langle \\Phi_{ij}^{ab} | \\hat{H} -E|\\Phi_{klmn}^{cdef} \\rangle C_{klmn}^{cdef}=0,\n",
    "$$"
   ]
  },
  {
   "cell_type": "markdown",
   "metadata": {},
   "source": [
    "and we can isolate the coefficients $C_{kl}^{cd}$ in a similar way as we did for the coefficients $C_{i}^{a}$.\n",
    "\n",
    "\n",
    "\n",
    "\n",
    "\n",
    "## Rewriting the FCI equation, more to add\n",
    "A standard choice for the first iteration is to set"
   ]
  },
  {
   "cell_type": "markdown",
   "metadata": {},
   "source": [
    "$$\n",
    "C_{ij}^{ab} =\\frac{\\langle ij \\vert \\hat{v} \\vert ab \\rangle}{\\epsilon_i+\\epsilon_j-\\epsilon_a-\\epsilon_b}.\n",
    "$$"
   ]
  },
  {
   "cell_type": "markdown",
   "metadata": {},
   "source": [
    "At the end we can rewrite our solution of the Schroedinger equation in terms of $n$ coupled equations for the coefficients $C_H^P$.\n",
    "This is a very cumbersome way of solving the equation. However, by using this iterative scheme we can illustrate how we can compute the\n",
    "various terms in the wave operator or correlation operator $\\hat{C}$. We will later identify the calculation of the various terms $C_H^P$\n",
    "as parts of different many-body approximations to full CI. In particular, we can  relate this non-linear scheme with Coupled Cluster theory and\n",
    "many-body perturbation theory.\n",
    "\n",
    "\n",
    "\n",
    "\n",
    "## Summarizing FCI and bringing in approximative methods\n",
    "\n",
    "If we can diagonalize large matrices, FCI is the method of choice since:\n",
    "* It gives all eigenvalues, ground state and excited states\n",
    "\n",
    "* The eigenvectors are obtained directly from the coefficients $C_H^P$ which result from the diagonalization\n",
    "\n",
    "* We can easily compute expectation values of other operators, as well as transition probabilities\n",
    "\n",
    "* Correlations are easy to understand in terms of contributions to a given operator beyond the Hartree-Fock contribution. This is the standard approach in  many-body theory.\n",
    "\n",
    "\n",
    "\n",
    "## Definition of the correlation energy\n",
    "The correlation energy is defined as, with a two-body Hamiltonian,"
   ]
  },
  {
   "cell_type": "markdown",
   "metadata": {},
   "source": [
    "$$\n",
    "\\Delta E=\\sum_{ai}\\langle i| \\hat{f}|a \\rangle C_{i}^{a}+\n",
    "\\sum_{abij}\\langle ij | \\hat{v}| ab \\rangle C_{ij}^{ab}.\n",
    "$$"
   ]
  },
  {
   "cell_type": "markdown",
   "metadata": {},
   "source": [
    "The coefficients $C$ result from the solution of the eigenvalue problem. \n",
    "The energy of say the ground state is then"
   ]
  },
  {
   "cell_type": "markdown",
   "metadata": {},
   "source": [
    "$$\n",
    "E=E_{ref}+\\Delta E,\n",
    "$$"
   ]
  },
  {
   "cell_type": "markdown",
   "metadata": {},
   "source": [
    "where the so-called reference energy is the energy we obtain from a Hartree-Fock calculation, that is"
   ]
  },
  {
   "cell_type": "markdown",
   "metadata": {},
   "source": [
    "$$\n",
    "E_{ref}=\\langle \\Phi_0 \\vert \\hat{H} \\vert \\Phi_0 \\rangle.\n",
    "$$"
   ]
  },
  {
   "cell_type": "markdown",
   "metadata": {},
   "source": [
    "## FCI equation and the coefficients\n",
    "\n",
    "However, as we have seen, even for a small case like the four first major shells and a nucleus like oxygen-16, the dimensionality becomes quickly intractable. If we wish to include single-particle states that reflect weakly bound systems, we need a much larger single-particle basis. We need thus approximative methods that sum specific correlations to infinite order. \n",
    "\n",
    "Popular methods are\n",
    "* [Many-body perturbation theory (in essence a Taylor expansion)](http://www.sciencedirect.com/science/article/pii/0370157395000126)\n",
    "\n",
    "* [Coupled cluster theory (coupled non-linear equations)](http://iopscience.iop.org/article/10.1088/0034-4885/77/9/096302/meta)\n",
    "\n",
    "* Green's function approaches (matrix inversion)\n",
    "\n",
    "* [Similarity group transformation methods (coupled ordinary differential equations)](http://journals.aps.org/prl/abstract/10.1103/PhysRevLett.106.222502)\n",
    "\n",
    "All these methods start normally with a Hartree-Fock basis as the calculational basis.\n",
    "\n",
    "\n",
    "\n",
    "## Building a many-body basis\n",
    "Here we will discuss how we can set up a single-particle basis which we can use in the various parts of our projects, from the simple pairing model to infinite nuclear matter. We will use here the simple pairing model to illustrate in particular how to set up a single-particle basis. We will also use this do discuss standard FCI approaches like:\n",
    " 1. Standard shell-model basis in one or two major shells\n",
    "\n",
    " 2. Full CI in a given basis and no truncations\n",
    "\n",
    " 3. CISD and CISDT approximations\n",
    "\n",
    " 4. No-core shell model and truncation in excitation energy\n",
    "\n",
    "\n",
    "\n",
    "## Building a many-body basis\n",
    "An important step in an FCI code  is to construct the many-body basis.  \n",
    "\n",
    "While the formalism is independent of the choice of basis, the **effectiveness** of a calculation \n",
    "will certainly be basis dependent. \n",
    "\n",
    "Furthermore there are common conventions useful to know.\n",
    "\n",
    "First, the single-particle basis has angular momentum as a good quantum number.  You can \n",
    "imagine the single-particle wavefunctions being generated by a one-body Hamiltonian, \n",
    "for example a harmonic oscillator.  Modifications include harmonic oscillator plus \n",
    "spin-orbit splitting, or self-consistent mean-field potentials, or the Woods-Saxon potential which mocks \n",
    "up the self-consistent mean-field. \n",
    "For nuclei, the harmonic oscillator, modified by spin-orbit splitting, provides a useful language \n",
    "for describing single-particle states.\n",
    "\n",
    "\n",
    "\n",
    "## Building a many-body basis\n",
    "Each single-particle state is labeled by the following quantum numbers: \n",
    "\n",
    "* Orbital angular momentum $l$\n",
    "\n",
    "* Intrinsic spin $s$ = 1/2 for protons and neutrons\n",
    "\n",
    "* Angular momentum $j = l \\pm 1/2$\n",
    "\n",
    "* $z$-component $j_z$ (or $m$)\n",
    "\n",
    "* Some labeling of the radial wavefunction, typically $n$ the number of nodes in  the radial wavefunction, but in the case of harmonic oscillator one can also use the principal quantum number $N$, where the harmonic oscillator energy is $(N+3/2)\\hbar \\omega$.  \n",
    "\n",
    "In this format one labels states by $n(l)_j$, with $(l)$ replaced by a letter:\n",
    "$s$ for $l=0$, $p$ for $l=1$, $d$ for $l=2$, $f$ for $l=3$, and thenceforth alphabetical.\n",
    "\n",
    "\n",
    "\n",
    "## Building a many-body basis\n",
    " In practice the single-particle space has to be severely truncated.  This truncation is \n",
    "typically based upon the single-particle energies, which is the effective energy \n",
    "from a mean-field potential. \n",
    "\n",
    "Sometimes we freeze the core and only consider a valence space. For example, one \n",
    "may assume a frozen ${}^{4}\\mbox{He}$ core, with two protons and two neutrons in the $0s_{1/2}$ \n",
    "shell, and then only allow active particles in the $0p_{1/2}$ and $0p_{3/2}$ orbits. \n",
    "\n",
    "\n",
    "Another example is a frozen ${}^{16}\\mbox{O}$ core, with eight protons and eight neutrons filling the \n",
    "$0s_{1/2}$,  $0p_{1/2}$ and $0p_{3/2}$ orbits, with valence particles in the \n",
    "$0d_{5/2}, 1s_{1/2}$ and $0d_{3/2}$ orbits.\n",
    "\n",
    "\n",
    "Sometimes we refer to nuclei by the valence space where their last nucleons go.  \n",
    "So, for example, we call ${}^{12}\\mbox{C}$ a $p$-shell nucleus, while ${}^{26}\\mbox{Al}$ is an \n",
    "$sd$-shell nucleus and ${}^{56}\\mbox{Fe}$ is a $pf$-shell nucleus.\n",
    "\n",
    "\n",
    "\n",
    "\n",
    "## Building a many-body basis\n",
    "There are different kinds of truncations.\n",
    "\n",
    "* For example, one can start with `filled' orbits (almost always the lowest), and then  allow one, two, three... particles excited out of those filled orbits. These are called  1p-1h, 2p-2h, 3p-3h excitations. \n",
    "\n",
    "* Alternately, one can state a maximal orbit and allow all possible configurations with  particles occupying states up to that maximum. This is called *full configuration*.\n",
    "\n",
    "* Finally, for particular use in nuclear physics, there is the *energy* truncation, also  called the $N\\hbar\\Omega$ or $N_{max}$ truncation.\n",
    "\n",
    "\n",
    "\n",
    "## Building a many-body basis\n",
    "Here one works in a harmonic oscillator basis, with each major oscillator shell assigned  a principal quantum number $N=0,1,2,3,...$. \n",
    "The $N\\hbar\\Omega$ or $N_{max}$ truncation: Any configuration is given an noninteracting energy, which is the sum \n",
    "of the single-particle harmonic oscillator energies. (Thus this ignores \n",
    "spin-orbit splitting.)\n",
    "\n",
    "Excited state are labeled relative to the lowest configuration by the \n",
    "number of harmonic oscillator quanta.\n",
    "\n",
    "This truncation is useful because if one includes *all* configuration up to \n",
    "some $N_{max}$, and has a translationally invariant interaction, then the intrinsic \n",
    "motion and the center-of-mass motion factor. In other words, we can know exactly \n",
    "the center-of-mass wavefunction. \n",
    "\n",
    "In almost all cases, the many-body Hamiltonian is rotationally invariant. This means \n",
    "it commutes with the operators $\\hat{J}^2, \\hat{J}_z$ and so eigenstates will have \n",
    "good $J,M$. Furthermore, the eigenenergies do not depend upon the orientation $M$. \n",
    "\n",
    "\n",
    "Therefore we can choose to construct a many-body basis which has fixed $M$; this is \n",
    "called an $M$-scheme basis. \n",
    "\n",
    "\n",
    "Alternately, one can construct a many-body basis which has fixed $J$, or a $J$-scheme \n",
    "basis.\n",
    "\n",
    "\n",
    "\n",
    "## Building a many-body basis\n",
    "The Hamiltonian matrix will have smaller dimensions (a factor of 10 or more) in the $J$-scheme than in the $M$-scheme. \n",
    "On the other hand, as we'll show in the next slide, the $M$-scheme is very easy to \n",
    "construct with Slater determinants, while the $J$-scheme basis states, and thus the \n",
    "matrix elements, are more complicated, almost always being linear combinations of \n",
    "$M$-scheme states. $J$-scheme bases are important and useful, but we'll focus on the \n",
    "simpler $M$-scheme.\n",
    "\n",
    "The quantum number $m$ is additive (because the underlying group is Abelian): \n",
    "if a Slater determinant $\\hat{a}_i^\\dagger \\hat{a}^\\dagger_j \\hat{a}^\\dagger_k \\ldots | 0 \\rangle$ \n",
    "is built from single-particle states all with good $m$, then the total"
   ]
  },
  {
   "cell_type": "markdown",
   "metadata": {},
   "source": [
    "$$\n",
    "M = m_i + m_j + m_k + \\ldots\n",
    "$$"
   ]
  },
  {
   "cell_type": "markdown",
   "metadata": {},
   "source": [
    "This is *not* true of $J$, because the angular momentum group SU(2) is not Abelian.\n",
    "\n",
    "\n",
    "\n",
    "\n",
    "## Building a many-body basis\n",
    "\n",
    "The upshot is that \n",
    "* It is easy to construct a Slater determinant with good total $M$;\n",
    "\n",
    "* It is trivial to calculate $M$ for each Slater determinant;\n",
    "\n",
    "* So it is easy to construct an $M$-scheme basis with fixed total $M$.\n",
    "\n",
    "Note that the individual $M$-scheme basis states will *not*, in general, \n",
    "have good total $J$. \n",
    "Because the Hamiltonian is rotationally invariant, however, the eigenstates will \n",
    "have good $J$. (The situation is muddied when one has states of different $J$ that are \n",
    "nonetheless degenerate.)\n",
    "\n",
    "\n",
    "\n",
    "\n",
    "\n",
    "\n",
    "## Building a many-body basis\n",
    "Example: two $j=1/2$ orbits\n",
    "\n",
    "<table border=\"1\">\n",
    "<thead>\n",
    "<tr><th align=\"center\">Index</th> <th align=\"center\">$n$</th> <th align=\"center\">$l$</th> <th align=\"center\">$j$</th> <th align=\"center\">$m_j$</th> </tr>\n",
    "</thead>\n",
    "<tbody>\n",
    "<tr><td align=\"center\">   1        </td> <td align=\"center\">   0      </td> <td align=\"center\">   0      </td> <td align=\"center\">   1/2    </td> <td align=\"center\">   -1/2     </td> </tr>\n",
    "<tr><td align=\"center\">   2        </td> <td align=\"center\">   0      </td> <td align=\"center\">   0      </td> <td align=\"center\">   1/2    </td> <td align=\"center\">   1/2      </td> </tr>\n",
    "<tr><td align=\"center\">   3        </td> <td align=\"center\">   1      </td> <td align=\"center\">   0      </td> <td align=\"center\">   1/2    </td> <td align=\"center\">   -1/2     </td> </tr>\n",
    "<tr><td align=\"center\">   4        </td> <td align=\"center\">   1      </td> <td align=\"center\">   0      </td> <td align=\"center\">   1/2    </td> <td align=\"center\">   1/2      </td> </tr>\n",
    "</tbody>\n",
    "</table>\n",
    "Note that the order is arbitrary.\n",
    "\n",
    "\n",
    "\n",
    "## Building a many-body basis\n",
    "There are $\\left ( \\begin{array}{c} 4 \\\\ 2 \\end{array} \\right) = 6$ two-particle states, \n",
    "which we list with the total $M$:\n",
    "\n",
    "<table border=\"1\">\n",
    "<thead>\n",
    "<tr><th align=\"center\">Occupied</th> <th align=\"center\">$M$</th> </tr>\n",
    "</thead>\n",
    "<tbody>\n",
    "<tr><td align=\"center\">   1,2         </td> <td align=\"center\">   0      </td> </tr>\n",
    "<tr><td align=\"center\">   1,3         </td> <td align=\"center\">   -1     </td> </tr>\n",
    "<tr><td align=\"center\">   1,4         </td> <td align=\"center\">   0      </td> </tr>\n",
    "<tr><td align=\"center\">   2,3         </td> <td align=\"center\">   0      </td> </tr>\n",
    "<tr><td align=\"center\">   2,4         </td> <td align=\"center\">   1      </td> </tr>\n",
    "<tr><td align=\"center\">   3,4         </td> <td align=\"center\">   0      </td> </tr>\n",
    "</tbody>\n",
    "</table>\n",
    "There are 4 states with $M= 0$, \n",
    "and 1 each with $M = \\pm 1$.\n",
    "\n",
    "\n",
    "\n",
    "\n",
    "## Building a many-body basis\n",
    "As another example, consider using only single particle states from the $0d_{5/2}$ space. \n",
    "They have the following quantum numbers\n",
    "\n",
    "<table border=\"1\">\n",
    "<thead>\n",
    "<tr><th align=\"center\">Index</th> <th align=\"center\">$n$</th> <th align=\"center\">$l$</th> <th align=\"center\">$j$</th> <th align=\"center\">$m_j$</th> </tr>\n",
    "</thead>\n",
    "<tbody>\n",
    "<tr><td align=\"center\">   1        </td> <td align=\"center\">   0      </td> <td align=\"center\">   2      </td> <td align=\"center\">   5/2    </td> <td align=\"center\">   -5/2     </td> </tr>\n",
    "<tr><td align=\"center\">   2        </td> <td align=\"center\">   0      </td> <td align=\"center\">   2      </td> <td align=\"center\">   5/2    </td> <td align=\"center\">   -3/2     </td> </tr>\n",
    "<tr><td align=\"center\">   3        </td> <td align=\"center\">   0      </td> <td align=\"center\">   2      </td> <td align=\"center\">   5/2    </td> <td align=\"center\">   -1/2     </td> </tr>\n",
    "<tr><td align=\"center\">   4        </td> <td align=\"center\">   0      </td> <td align=\"center\">   2      </td> <td align=\"center\">   5/2    </td> <td align=\"center\">   1/2      </td> </tr>\n",
    "<tr><td align=\"center\">   5        </td> <td align=\"center\">   0      </td> <td align=\"center\">   2      </td> <td align=\"center\">   5/2    </td> <td align=\"center\">   3/2      </td> </tr>\n",
    "<tr><td align=\"center\">   6        </td> <td align=\"center\">   0      </td> <td align=\"center\">   2      </td> <td align=\"center\">   5/2    </td> <td align=\"center\">   5/2      </td> </tr>\n",
    "</tbody>\n",
    "</table>\n",
    "\n",
    "\n",
    "\n",
    "## Building a many-body basis\n",
    "There are $\\left ( \\begin{array}{c} 6 \\\\ 2 \\end{array} \\right) = 15$ two-particle states, \n",
    "which we list with the total $M$:\n",
    "\n",
    "<table border=\"1\">\n",
    "<thead>\n",
    "<tr><th align=\"center\">Occupied</th> <th align=\"center\">$M$</th> <th align=\"center\">Occupied</th> <th align=\"center\">$M$</th> <th align=\"center\">Occupied</th> <th align=\"center\">$M$</th> </tr>\n",
    "</thead>\n",
    "<tbody>\n",
    "<tr><td align=\"center\">   1,2         </td> <td align=\"center\">   -4     </td> <td align=\"center\">   2,3         </td> <td align=\"center\">   -2     </td> <td align=\"center\">   3,5         </td> <td align=\"center\">   1      </td> </tr>\n",
    "<tr><td align=\"center\">   1,3         </td> <td align=\"center\">   -3     </td> <td align=\"center\">   2,4         </td> <td align=\"center\">   -1     </td> <td align=\"center\">   3,6         </td> <td align=\"center\">   2      </td> </tr>\n",
    "<tr><td align=\"center\">   1,4         </td> <td align=\"center\">   -2     </td> <td align=\"center\">   2,5         </td> <td align=\"center\">   0      </td> <td align=\"center\">   4,5         </td> <td align=\"center\">   2      </td> </tr>\n",
    "<tr><td align=\"center\">   1,5         </td> <td align=\"center\">   -1     </td> <td align=\"center\">   2,6         </td> <td align=\"center\">   1      </td> <td align=\"center\">   4,6         </td> <td align=\"center\">   3      </td> </tr>\n",
    "<tr><td align=\"center\">   1,6         </td> <td align=\"center\">   0      </td> <td align=\"center\">   3,4         </td> <td align=\"center\">   0      </td> <td align=\"center\">   5,6         </td> <td align=\"center\">   4      </td> </tr>\n",
    "</tbody>\n",
    "</table>\n",
    "There are 3 states with $M= 0$, 2 with $M = 1$, and so on."
   ]
  }
 ],
 "metadata": {},
 "nbformat": 4,
 "nbformat_minor": 0
}
