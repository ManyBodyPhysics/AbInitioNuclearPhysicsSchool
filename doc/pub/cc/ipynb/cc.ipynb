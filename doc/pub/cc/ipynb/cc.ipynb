{
 "cells": [
  {
   "cell_type": "markdown",
   "metadata": {},
   "source": [
    "<!-- dom:TITLE: Coupled Cluster theory and infinite nuclear matter -->\n",
    "# Coupled Cluster theory and infinite nuclear matter\n",
    "<!-- dom:AUTHOR: Morten Hjorth-Jensen at [National Superconducting Cyclotron Laboratory](http://www.nscl.msu.edu/) and [Department of Physics and Astronomy](https://www.pa.msu.edu/), [Michigan State University](http://www.msu.edu/), East Lansing, MI 48824, USA & Department of Physics, University of Oslo, N-0316 Oslo, Norway -->\n",
    "<!-- Author: --> **Morten Hjorth-Jensen**, [National Superconducting Cyclotron Laboratory](http://www.nscl.msu.edu/) and [Department of Physics and Astronomy](https://www.pa.msu.edu/), [Michigan State University](http://www.msu.edu/), East Lansing, MI 48824, USA and Department of Physics, University of Oslo, N-0316 Oslo, Norway\n",
    "\n",
    "Date: **28th Indian-Summer School on Ab Initio Methods in Nuclear Physics**\n",
    "\n",
    "# Introduction\n",
    "Coester and Kummel first developed the ideas that led to coupled-cluster\n",
    "theory in the late 1950s. The basic idea is that the correlated wave function\n",
    "of a many-body system $\\mid\\Psi\\rangle$\n",
    "can be formulated as an exponential of correlation\n",
    "operators $T$ acting on a reference state $\\mid\\Phi\\rangle$"
   ]
  },
  {
   "cell_type": "markdown",
   "metadata": {},
   "source": [
    "$$\n",
    "\\mid\\Psi\\rangle = \\exp\\left(-\\hat{T}\\right)\\mid\\Phi\\rangle\\ .\n",
    "$$"
   ]
  },
  {
   "cell_type": "markdown",
   "metadata": {},
   "source": [
    "We will discuss how to define the operators later in this work. This simple\n",
    "ansatz carries enormous power. It leads to a non-perturbative many-body\n",
    "theory that includes summation of ladder diagrams , ring\n",
    "diagrams, and an infinite-order\n",
    "generalization of many-body perturbation theory.\n",
    "\n",
    "# Introduction\n",
    "Developments and applications\n",
    "of coupled-cluster theory took different routes in chemistry\n",
    "and nuclear physics. In quantum chemistry,\n",
    "coupled-cluster developments\n",
    "and applications have proven to be extremely useful, see for example the review by [Barrett and Musial](http://journals.aps.org/rmp/abstract/10.1103/RevModPhys.79.291) as well as the recent \n",
    "textbook by [Shavitt and Barrett](http://www.cambridge.org/fr/academic/subjects/chemistry/physical-chemistry/many-body-methods-chemistry-and-physics-mbpt-and-coupled-cluster-theory?format=HB).  Many previous applications to nuclear physics struggled with the repulsive character of the nuclear forces and limited basis sets used in the computations. Most of these problems have been overcome during the last decade and coupled-cluster\n",
    "theory is one of the computational methods of preference for doing nuclear physics, with applications ranging from light nuclei to medium-heavy nuclei,\n",
    "see for example the recent review by [Hagen, Papenbrock, Hjorth-Jensen and Dean](http://iopscience.iop.org/0034-4885/77/9/096302). \n",
    "\n",
    "<!-- !split  -->\n",
    "## A non-practical way of solving the eigenvalue problem\n",
    "\n",
    "Before we proceed with the derivation of the Coupled cluster equations, let us repeat some of the arguments we presented during our FCI lectures. \n",
    "In our FCI discussions, we rewrote the solution of the Schroedinger equation as a set of coupled equationsin the unknown coefficients $C$. Let us repeat some of these arguments.\n",
    "To obtain the eigenstates and eigenvalues in terms of non-linear equations is not a very practical approach. However, it serves the scope of linking FCI theory with approximative solutions to the many-body problem\n",
    "like Coupled cluster (CC) theory \n",
    "\n",
    "<!-- !split  -->\n",
    "## A non-practical way of solving the eigenvalue problem\n",
    "If we assume that we have a two-body operator at most, the Slater-Condon rule \n",
    "gives then an equation for the \n",
    "correlation energy in terms of $C_i^a$ and $C_{ij}^{ab}$ only.  We get then"
   ]
  },
  {
   "cell_type": "markdown",
   "metadata": {},
   "source": [
    "$$\n",
    "\\langle \\Phi_0 | \\hat{H} -E| \\Phi_0\\rangle + \\sum_{ai}\\langle \\Phi_0 | \\hat{H} -E|\\Phi_{i}^{a} \\rangle C_{i}^{a}+\n",
    "\\sum_{abij}\\langle \\Phi_0 | \\hat{H} -E|\\Phi_{ij}^{ab} \\rangle C_{ij}^{ab}=0,\n",
    "$$"
   ]
  },
  {
   "cell_type": "markdown",
   "metadata": {},
   "source": [
    "or"
   ]
  },
  {
   "cell_type": "markdown",
   "metadata": {},
   "source": [
    "$$\n",
    "E-E_0 =\\Delta E=\\sum_{ai}\\langle \\Phi_0 | \\hat{H}|\\Phi_{i}^{a} \\rangle C_{i}^{a}+\n",
    "\\sum_{abij}\\langle \\Phi_0 | \\hat{H}|\\Phi_{ij}^{ab} \\rangle C_{ij}^{ab},\n",
    "$$"
   ]
  },
  {
   "cell_type": "markdown",
   "metadata": {},
   "source": [
    "where the energy $E_0$ is the reference energy and $\\Delta E$ defines the so-called correlation energy.\n",
    "The single-particle basis functions  could be the results of a Hartree-Fock calculation or just the eigenstates of the non-interacting part of the Hamiltonian. \n",
    "\n",
    "<!-- !split  -->\n",
    "## A non-practical way of solving the eigenvalue problem\n",
    "In our notes on Hartree-Fock calculations, \n",
    "we have already computed the matrix $\\langle \\Phi_0 | \\hat{H}|\\Phi_{i}^{a}\\rangle $ and $\\langle \\Phi_0 | \\hat{H}|\\Phi_{ij}^{ab}\\rangle$.  If we are using a Hartree-Fock basis, then the matrix elements\n",
    "$\\langle \\Phi_0 | \\hat{H}|\\Phi_{i}^{a}\\rangle=0$ and we are left with a *correlation energy* given by"
   ]
  },
  {
   "cell_type": "markdown",
   "metadata": {},
   "source": [
    "$$\n",
    "E-E_0 =\\Delta E^{HF}=\\sum_{abij}\\langle \\Phi_0 | \\hat{H}|\\Phi_{ij}^{ab} \\rangle C_{ij}^{ab}.\n",
    "$$"
   ]
  },
  {
   "cell_type": "markdown",
   "metadata": {},
   "source": [
    "<!-- !split  -->\n",
    "## A non-practical way of solving the eigenvalue problem\n",
    "Inserting the various matrix elements we can rewrite the previous equation as"
   ]
  },
  {
   "cell_type": "markdown",
   "metadata": {},
   "source": [
    "$$\n",
    "\\Delta E=\\sum_{ai}\\langle i| \\hat{f}|a \\rangle C_{i}^{a}+\n",
    "\\sum_{abij}\\langle ij | \\hat{v}| ab \\rangle C_{ij}^{ab}.\n",
    "$$"
   ]
  },
  {
   "cell_type": "markdown",
   "metadata": {},
   "source": [
    "This equation determines the correlation energy but not the coefficients $C$. \n",
    "We need more equations. Our next step is to set up"
   ]
  },
  {
   "cell_type": "markdown",
   "metadata": {},
   "source": [
    "$$\n",
    "\\langle \\Phi_i^a | \\hat{H} -E| \\Phi_0\\rangle + \\sum_{bj}\\langle \\Phi_i^a | \\hat{H} -E|\\Phi_{j}^{b} \\rangle C_{j}^{b}+\n",
    "\\sum_{bcjk}\\langle \\Phi_i^a | \\hat{H} -E|\\Phi_{jk}^{bc} \\rangle C_{jk}^{bc}+\n",
    "\\sum_{bcdjkl}\\langle \\Phi_i^a | \\hat{H} -E|\\Phi_{jkl}^{bcd} \\rangle C_{jkl}^{bcd}=0,\n",
    "$$"
   ]
  },
  {
   "cell_type": "markdown",
   "metadata": {},
   "source": [
    "as this equation will allow us to find an expression for the coefficents $C_i^a$ since we can rewrite this equation as"
   ]
  },
  {
   "cell_type": "markdown",
   "metadata": {},
   "source": [
    "$$\n",
    "\\langle i | \\hat{f}| a\\rangle +\\langle \\Phi_i^a | \\hat{H}|\\Phi_{i}^{a} \\rangle C_{i}^{a}+ \\sum_{bj\\ne ai}\\langle \\Phi_i^a | \\hat{H}|\\Phi_{j}^{b} \\rangle C_{j}^{b}+\n",
    "\\sum_{bcjk}\\langle \\Phi_i^a | \\hat{H}|\\Phi_{jk}^{bc} \\rangle C_{jk}^{bc}+\n",
    "\\sum_{bcdjkl}\\langle \\Phi_i^a | \\hat{H}|\\Phi_{jkl}^{bcd} \\rangle C_{jkl}^{bcd}=EC_i^a.\n",
    "$$"
   ]
  },
  {
   "cell_type": "markdown",
   "metadata": {},
   "source": [
    "<!-- !split  -->\n",
    "## A non-practical way of solving the eigenvalue problem\n",
    "We see that on the right-hand side we have the energy $E$. This leads to a non-linear equation in the unknown coefficients. \n",
    "These equations are normally solved iteratively ( that is we can start with a guess for the coefficients $C_i^a$). A common choice is to use perturbation theory for the first guess, setting thereby"
   ]
  },
  {
   "cell_type": "markdown",
   "metadata": {},
   "source": [
    "$$\n",
    "C_{i}^{a}=\\frac{\\langle i | \\hat{f}| a\\rangle}{\\epsilon_i-\\epsilon_a}.\n",
    "$$"
   ]
  },
  {
   "cell_type": "markdown",
   "metadata": {},
   "source": [
    "The observant reader will however see that we need an equation for $C_{jk}^{bc}$ and $C_{jkl}^{bcd}$ as well.\n",
    "To find equations for these coefficients we need then to continue our multiplications from the left with the various\n",
    "$\\Phi_{H}^P$ terms. \n",
    "\n",
    "<!-- !split  -->\n",
    "## A non-practical way of solving the eigenvalue problem\n",
    "For $C_{jk}^{bc}$ we need then"
   ]
  },
  {
   "cell_type": "markdown",
   "metadata": {},
   "source": [
    "8\n",
    " \n",
    "<\n",
    "<\n",
    "<\n",
    "!\n",
    "!\n",
    "M\n",
    "A\n",
    "T\n",
    "H\n",
    "_\n",
    "B\n",
    "L\n",
    "O\n",
    "C\n",
    "K"
   ]
  },
  {
   "cell_type": "markdown",
   "metadata": {},
   "source": [
    "$$\n",
    "\\sum_{cdkl}\\langle \\Phi_{ij}^{ab} | \\hat{H} -E|\\Phi_{kl}^{cd} \\rangle C_{kl}^{cd}+\\sum_{cdeklm}\\langle \\Phi_{ij}^{ab} | \\hat{H} -E|\\Phi_{klm}^{cde} \\rangle C_{klm}^{cde}+\\sum_{cdefklmn}\\langle \\Phi_{ij}^{ab} | \\hat{H} -E|\\Phi_{klmn}^{cdef} \\rangle C_{klmn}^{cdef}=0,\n",
    "$$"
   ]
  },
  {
   "cell_type": "markdown",
   "metadata": {},
   "source": [
    "and we can isolate the coefficients $C_{kl}^{cd}$ in a similar way as we did for the coefficients $C_{i}^{a}$. \n",
    "A standard choice for the first iteration is to set"
   ]
  },
  {
   "cell_type": "markdown",
   "metadata": {},
   "source": [
    "$$\n",
    "C_{ij}^{ab} =\\frac{\\langle ij \\vert \\hat{v} \\vert ab \\rangle}{\\epsilon_i+\\epsilon_j-\\epsilon_a-\\epsilon_b}.\n",
    "$$"
   ]
  },
  {
   "cell_type": "markdown",
   "metadata": {},
   "source": [
    "<!-- !split  -->\n",
    "## A non-practical way of solving the eigenvalue problem\n",
    "At the end we can rewrite our solution of the Schroedinger equation in terms of $n$ coupled equations for the coefficients $C_H^P$.\n",
    "This is a very cumbersome way of solving the equation. However, by using this iterative scheme we can illustrate how we can compute the\n",
    "various terms in the wave operator or correlation operator $\\hat{C}$. We will later identify the calculation of the various terms $C_H^P$\n",
    "as parts of different many-body approximations to full CI. In particular, we can  relate this non-linear scheme with Coupled Cluster theory and\n",
    "many-body perturbation theory.\n",
    "\n",
    "## Summarizing FCI and bringing in approximative methods\n",
    "If we can diagonalize large matrices, FCI is the method of choice since:\n",
    "* It gives all eigenvalues, ground state and excited states\n",
    "\n",
    "* The eigenvectors are obtained directly from the coefficients $C_H^P$ which result from the diagonalization\n",
    "\n",
    "* We can compute easily expectation values of other operators, as well as transition probabilities\n",
    "\n",
    "* Correlations are easy to understand in terms of contributions to a given operator beyond the Hartree-Fock contribution. This is the standard approach in  many-body theory. \n",
    "\n",
    "## Summarizing FCI and bringing in approximative methods\n",
    "The correlation energy is defined as, with a two-body Hamiltonian,"
   ]
  },
  {
   "cell_type": "markdown",
   "metadata": {},
   "source": [
    "$$\n",
    "\\Delta E=\\sum_{ai}\\langle i| \\hat{f}|a \\rangle C_{i}^{a}+\n",
    "\\sum_{abij}\\langle ij | \\hat{v}| ab \\rangle C_{ij}^{ab}.\n",
    "$$"
   ]
  },
  {
   "cell_type": "markdown",
   "metadata": {},
   "source": [
    "The coefficients $C$ result from the solution of the eigenvalue problem. \n",
    "The energy of say the ground state is then"
   ]
  },
  {
   "cell_type": "markdown",
   "metadata": {},
   "source": [
    "$$\n",
    "E=E_{ref}+\\Delta E,\n",
    "$$"
   ]
  },
  {
   "cell_type": "markdown",
   "metadata": {},
   "source": [
    "where the so-called reference energy is the energy we obtain from a Hartree-Fock calculation, that is"
   ]
  },
  {
   "cell_type": "markdown",
   "metadata": {},
   "source": [
    "$$\n",
    "E_{ref}=\\langle \\Phi_0 \\vert \\hat{H} \\vert \\Phi_0 \\rangle.\n",
    "$$"
   ]
  },
  {
   "cell_type": "markdown",
   "metadata": {},
   "source": [
    "## Summarizing FCI and bringing in approximative methods\n",
    "However, as we have seen, even for a small case like the four first major shells and a nucleus like oxygen-16, the dimensionality becomes quickly intractable. If we wish to include single-particle states that reflect weakly bound systems, we need a much larger single-particle basis. We need thus approximative methods that sum specific correlations to infinite order. \n",
    "\n",
    "Popular methods are\n",
    "* [Many-body perturbation theory (in essence a Taylor expansion)](http://www.sciencedirect.com/science/journal/03701573/261/3-4)\n",
    "\n",
    "* [Coupled cluster theory (coupled non-linear equations)](http://iopscience.iop.org/0034-4885/77/9/096302)\n",
    "\n",
    "* [Green's function approaches (matrix inversion)](http://www.worldscientific.com/worldscibooks/10.1142/6821)\n",
    "\n",
    "* [Similarity group transformation methods (coupled ordinary differential equations)](http://journals.aps.org/prc/abstract/10.1103/PhysRevC.85.061304)\n",
    "\n",
    "All these methods start normally with a Hartree-Fock basis as the calculational basis. \n",
    "\n",
    "## A quick tour of Coupled Cluster theory\n",
    "\n",
    "The ansatz for the wavefunction (ground state) is given by"
   ]
  },
  {
   "cell_type": "markdown",
   "metadata": {},
   "source": [
    "$$\n",
    "\\vert \\Psi\\rangle = \\vert \\Psi_{CC}\\rangle = e^{\\hat{T}} \\vert \\Phi_0\\rangle =  \n",
    "  \\left( \\sum_{n=1}^{A} \\frac{1}{n!} \\hat{T}^n \\right) \\vert \\Phi_0\\rangle,\n",
    "$$"
   ]
  },
  {
   "cell_type": "markdown",
   "metadata": {},
   "source": [
    "where $A$ represents the maximum number of particle-hole excitations and $\\hat{T}$ is the cluster operator defined as"
   ]
  },
  {
   "cell_type": "markdown",
   "metadata": {},
   "source": [
    "$$\n",
    "\\begin{align*}\n",
    "            \\hat{T} &= \\hat{T}_1 + \\hat{T}_2 + \\ldots + \\hat{T}_A \\\\\n",
    "            \\hat{T}_n &= \\left(\\frac{1}{n!}\\right)^2 \n",
    "                \\sum_{\\substack{\n",
    "                        i_1,i_2,\\ldots i_n \\\\\n",
    "                        a_1,a_2,\\ldots a_n}}\n",
    "                t_{i_1i_2\\ldots i_n}^{a_1a_2\\ldots a_n} a_{a_1}^\\dagger a_{a_2}^\\dagger \\ldots a_{a_n}^\\dagger a_{i_n} \\ldots a_{i_2} a_{i_1}.\n",
    "        \\end{align*}\n",
    "$$"
   ]
  },
  {
   "cell_type": "markdown",
   "metadata": {},
   "source": [
    "## A quick tour of Coupled Cluster theory\n",
    "The energy is given by"
   ]
  },
  {
   "cell_type": "markdown",
   "metadata": {},
   "source": [
    "$$\n",
    "E_{\\mathrm{CC}} = \\langle\\Phi_0\\vert  \\overline{H}\\vert \\Phi_0\\rangle,\n",
    "$$"
   ]
  },
  {
   "cell_type": "markdown",
   "metadata": {},
   "source": [
    "where $\\overline{H}$ is a similarity transformed Hamiltonian"
   ]
  },
  {
   "cell_type": "markdown",
   "metadata": {},
   "source": [
    "$$\n",
    "\\begin{align*}\n",
    "        \\overline{H}&= e^{-\\hat{T}} \\hat{H}_N e^{\\hat{T}} \\\\\n",
    "        \\hat{H}_N &= \\hat{H} - \\langle\\Phi_0\\vert \\hat{H} \\vert \\Phi_0\\rangle.\n",
    "    \\end{align*}\n",
    "$$"
   ]
  },
  {
   "cell_type": "markdown",
   "metadata": {},
   "source": [
    "## A quick tour of Coupled Cluster theory\n",
    "The coupled cluster energy is a function of the unknown cluster amplitudes $t_{i_1i_2\\ldots i_n}^{a_1a_2\\ldots a_n}$,\n",
    "given by the solutions to the amplitude equations"
   ]
  },
  {
   "cell_type": "markdown",
   "metadata": {},
   "source": [
    "$$\n",
    "0 = \\langle\\Phi_{i_1 \\ldots i_n}^{a_1 \\ldots a_n}\\vert \\overline{H}\\vert \\Phi_0\\rangle.\n",
    "$$"
   ]
  },
  {
   "cell_type": "markdown",
   "metadata": {},
   "source": [
    "The similarity transformed   Hamiltonian  $\\overline{H}$ is expanded using the Baker-Campbell-Hausdorff expression,"
   ]
  },
  {
   "cell_type": "markdown",
   "metadata": {},
   "source": [
    "$$\n",
    "\\begin{align*}\n",
    "        \\overline{H}&= \\hat{H}_N + \\left[ \\hat{H}_N, \\hat{T} \\right] + \n",
    "            \\frac{1}{2} \\left[\\left[ \\hat{H}_N, \\hat{T} \\right], \\hat{T}\\right] + \\ldots \\\\\n",
    "            & \\quad \\frac{1}{n!} \\left[ \\ldots \\left[ \\hat{H}_N, \\hat{T} \\right], \\ldots \\hat{T} \\right] +\\dots\n",
    "    \\end{align*}\n",
    "$$"
   ]
  },
  {
   "cell_type": "markdown",
   "metadata": {},
   "source": [
    "and simplified using the connected cluster theorem"
   ]
  },
  {
   "cell_type": "markdown",
   "metadata": {},
   "source": [
    "$$\n",
    "\\overline{H}= \\hat{H}_N + \\left( \\hat{H}_N \\hat{T}\\right)_c + \\frac{1}{2} \\left( \\hat{H}_N \\hat{T}^2\\right)_c\n",
    "            + \\dots + \\frac{1}{n!} \\left( \\hat{H}_N \\hat{T}^n\\right)_c +\\dots\n",
    "$$"
   ]
  },
  {
   "cell_type": "markdown",
   "metadata": {},
   "source": [
    "## A quick tour of Coupled Cluster theory\n",
    "A much used approximation is to  truncate the cluster operator $\\hat{T}$ at the $n=2$ level. This defines the so-called singes and doubles approximation to the Coupled Cluster wavefunction, normally shortened to CCSD..\n",
    "\n",
    "The coupled cluster wavefunction is now given by"
   ]
  },
  {
   "cell_type": "markdown",
   "metadata": {},
   "source": [
    "$$\n",
    "\\vert \\Psi_{CC}\\rangle = e^{\\hat{T}_1 + \\hat{T}_2} \\vert \\Phi_0\\rangle\n",
    "$$"
   ]
  },
  {
   "cell_type": "markdown",
   "metadata": {},
   "source": [
    "where"
   ]
  },
  {
   "cell_type": "markdown",
   "metadata": {},
   "source": [
    "$$\n",
    "\\begin{align*}\n",
    "            \\hat{T}_1 &= \n",
    "            \\sum_{ia}\n",
    "                t_{i}^{a} a_{a}^\\dagger a_i \\\\\n",
    "            \\hat{T}_2 &= \\frac{1}{4} \n",
    "            \\sum_{ijab}\n",
    "                t_{ij}^{ab} a_{a}^\\dagger a_{b}^\\dagger a_{j} a_{i}.\n",
    "        \\end{align*}\n",
    "$$"
   ]
  },
  {
   "cell_type": "markdown",
   "metadata": {},
   "source": [
    "## A quick tour of Coupled Cluster theory\n",
    "The amplutudes $t$ play a role similar to the coefficients $C$ in the shell-model calculations. They are obtained by solving a set of non-linear equations\n",
    "similar to those discussed above in connection withe FCI discussion.\n",
    "\n",
    "If we truncate our equations at the CCSD level, it corresponds to performing a transformation of the Hamiltonian matrix of the following type for a six particle problem (with a two-body Hamiltonian):\n",
    "\n",
    "<table border=\"1\">\n",
    "<thead>\n",
    "<tr><th align=\"center\">       </th> <th align=\"center\">  $0p-0h$  </th> <th align=\"center\">  $1p-1h$  </th> <th align=\"center\">  $2p-2h$  </th> <th align=\"center\">  $3p-3h$  </th> <th align=\"center\">  $4p-4h$  </th> <th align=\"center\">  $5p-5h$  </th> <th align=\"center\">  $6p-6h$  </th> </tr>\n",
    "</thead>\n",
    "<tbody>\n",
    "<tr><td align=\"center\">   $0p-0h$    </td> <td align=\"center\">   $\\tilde{x}$    </td> <td align=\"center\">   $\\tilde{x}$    </td> <td align=\"center\">   $\\tilde{x}$    </td> <td align=\"center\">   0              </td> <td align=\"center\">   0              </td> <td align=\"center\">   0              </td> <td align=\"center\">   0              </td> </tr>\n",
    "<tr><td align=\"center\">   $1p-1h$    </td> <td align=\"center\">   0              </td> <td align=\"center\">   $\\tilde{x}$    </td> <td align=\"center\">   $\\tilde{x}$    </td> <td align=\"center\">   $\\tilde{x}$    </td> <td align=\"center\">   0              </td> <td align=\"center\">   0              </td> <td align=\"center\">   0              </td> </tr>\n",
    "<tr><td align=\"center\">   $2p-2h$    </td> <td align=\"center\">   0              </td> <td align=\"center\">   $\\tilde{x}$    </td> <td align=\"center\">   $\\tilde{x}$    </td> <td align=\"center\">   $\\tilde{x}$    </td> <td align=\"center\">   $\\tilde{x}$    </td> <td align=\"center\">   0              </td> <td align=\"center\">   0              </td> </tr>\n",
    "<tr><td align=\"center\">   $3p-3h$    </td> <td align=\"center\">   0              </td> <td align=\"center\">   $\\tilde{x}$    </td> <td align=\"center\">   $\\tilde{x}$    </td> <td align=\"center\">   $\\tilde{x}$    </td> <td align=\"center\">   $\\tilde{x}$    </td> <td align=\"center\">   $\\tilde{x}$    </td> <td align=\"center\">   0              </td> </tr>\n",
    "<tr><td align=\"center\">   $4p-4h$    </td> <td align=\"center\">   0              </td> <td align=\"center\">   0              </td> <td align=\"center\">   $\\tilde{x}$    </td> <td align=\"center\">   $\\tilde{x}$    </td> <td align=\"center\">   $\\tilde{x}$    </td> <td align=\"center\">   $\\tilde{x}$    </td> <td align=\"center\">   $\\tilde{x}$    </td> </tr>\n",
    "<tr><td align=\"center\">   $5p-5h$    </td> <td align=\"center\">   0              </td> <td align=\"center\">   0              </td> <td align=\"center\">   0              </td> <td align=\"center\">   $\\tilde{x}$    </td> <td align=\"center\">   $\\tilde{x}$    </td> <td align=\"center\">   $\\tilde{x}$    </td> <td align=\"center\">   $\\tilde{x}$    </td> </tr>\n",
    "<tr><td align=\"center\">   $6p-6h$    </td> <td align=\"center\">   0              </td> <td align=\"center\">   0              </td> <td align=\"center\">   0              </td> <td align=\"center\">   0              </td> <td align=\"center\">   $\\tilde{x}$    </td> <td align=\"center\">   $\\tilde{x}$    </td> <td align=\"center\">   $\\tilde{x}$    </td> </tr>\n",
    "</tbody>\n",
    "</table>\n",
    "\n",
    "## A quick tour of Coupled Cluster theory\n",
    "In our FCI discussion the correlation energy is defined as, with a two-body Hamiltonian,"
   ]
  },
  {
   "cell_type": "markdown",
   "metadata": {},
   "source": [
    "$$\n",
    "\\Delta E=\\sum_{ai}\\langle i| \\hat{f}|a \\rangle C_{i}^{a}+\n",
    "\\sum_{abij}\\langle ij | \\hat{v}| ab \\rangle C_{ij}^{ab}.\n",
    "$$"
   ]
  },
  {
   "cell_type": "markdown",
   "metadata": {},
   "source": [
    "In Coupled cluster theory it becomes (irrespective of level of truncation of $T$)"
   ]
  },
  {
   "cell_type": "markdown",
   "metadata": {},
   "source": [
    "$$\n",
    "\\Delta E=\\sum_{ai}\\langle i| \\hat{f}|a \\rangle t_{i}^{a}+\n",
    "\\sum_{abij}\\langle ij | \\hat{v}| ab \\rangle t_{ij}^{ab}.\n",
    "$$"
   ]
  },
  {
   "cell_type": "markdown",
   "metadata": {},
   "source": [
    "## A quick tour of Coupled Cluster theory\n",
    "Coupled cluster theory has several interesting computational features and is the method of choice in quantum chemistry. The method was originally proposed by Coester and Kummel, two nuclear physicists (way back in the fifties). It came back in full strength in nuclear physics during the last decade. \n",
    "\n",
    "There are several interesting features:\n",
    "* With a truncation like CCSD or CCSDT, we can include to infinite order correlations like $2p-2h$.\n",
    "\n",
    "* We can include a large basis of single-particle states, not possible in standard FCI calculations\n",
    "\n",
    "However, Coupled Cluster theory is\n",
    "* non-variational\n",
    "\n",
    "* if we want to find properties of excited states, additional calculations via for example equation of motion methods are needed\n",
    "\n",
    "* if correlations are strong, a single-reference ansatz may not be the best starting point\n",
    "\n",
    "* we cannot quantify properly the error we make when truncations are made in the cluster operator\n",
    "\n",
    "## The CCD approximation\n",
    "\n",
    "We will now approximate the cluster operator $\\hat{T}$ to include only $2p-2h$ correlations. This leads to the so-called CCD approximation, that is"
   ]
  },
  {
   "cell_type": "markdown",
   "metadata": {},
   "source": [
    "$$\n",
    "\\hat{T}\\approx \\hat{T}_2=\\frac{1}{4}\\sum_{abij}t_{ij}^{ab}a^{\\dagger}_aa^{\\dagger}_ba_ja_i,\n",
    "$$"
   ]
  },
  {
   "cell_type": "markdown",
   "metadata": {},
   "source": [
    "meaning that we have"
   ]
  },
  {
   "cell_type": "markdown",
   "metadata": {},
   "source": [
    "$$\n",
    "\\vert \\Psi_0 \\rangle \\approx \\vert \\Psi_{CCD} \\rangle = \\exp{\\left(\\hat{T}_2\\right)}\\vert \\Phi_0\\rangle.\n",
    "$$"
   ]
  },
  {
   "cell_type": "markdown",
   "metadata": {},
   "source": [
    "## The CCD approximation\n",
    "Inserting these equations in the expression for the computation of the energy we have,\n",
    "with a Hamiltonian defined with respect to a general vacuum (see the exercises in the second quantization part)"
   ]
  },
  {
   "cell_type": "markdown",
   "metadata": {},
   "source": [
    "$$\n",
    "\\hat{H}=\\hat{H}_N+E_{\\mathrm{ref}},\n",
    "$$"
   ]
  },
  {
   "cell_type": "markdown",
   "metadata": {},
   "source": [
    "with"
   ]
  },
  {
   "cell_type": "markdown",
   "metadata": {},
   "source": [
    "$$\n",
    "\\hat{H}_N=\\sum_{pq}\\langle p \\vert \\hat{f} \\vert q \\rangle  a^{\\dagger}_pa_q + \\frac{1}{4}\\sum_{pqrs}\\langle pq \\vert \\hat{v} \\vert rs \\rangle a^{\\dagger}_pa^{\\dagger}_qa_sa_r,\n",
    "$$"
   ]
  },
  {
   "cell_type": "markdown",
   "metadata": {},
   "source": [
    "we obtain that the energy can be written as"
   ]
  },
  {
   "cell_type": "markdown",
   "metadata": {},
   "source": [
    "$$\n",
    "\\langle \\Phi_0 \\vert \\exp{-\\left(\\hat{T}_2\\right)}\\hat{H}_N\\exp{\\left(\\hat{T}_2\\right)}\\vert \\Phi_0\\rangle =\n",
    "\\langle \\Phi_0 \\vert \\hat{H}_N(1+\\hat{T}_2)\\vert \\Phi_0\\rangle = E_{CCD}.\n",
    "$$"
   ]
  },
  {
   "cell_type": "markdown",
   "metadata": {},
   "source": [
    "## The CCD approximation\n",
    "This quantity becomes"
   ]
  },
  {
   "cell_type": "markdown",
   "metadata": {},
   "source": [
    "$$\n",
    "E_{CCD}=E_{\\mathrm{ref}}+\\frac{1}{4}\\sum_{abij}\\langle ij \\vert \\hat{v} \\vert ab \\rangle t_{ij}^{ab},\n",
    "$$"
   ]
  },
  {
   "cell_type": "markdown",
   "metadata": {},
   "source": [
    "where the latter is the correlation energy from this level of approximation of CC theory. \n",
    "Similarly, the expression for the amplitudes reads"
   ]
  },
  {
   "cell_type": "markdown",
   "metadata": {},
   "source": [
    "$$\n",
    "\\langle \\Phi_{ij}^{ab} \\vert \\exp{-\\left(\\hat{T}_2\\right)}\\hat{H}_N\\exp{\\left(\\hat{T}_2\\right)}\\vert \\Phi_0\\rangle = 0.\n",
    "$$"
   ]
  },
  {
   "cell_type": "markdown",
   "metadata": {},
   "source": [
    "## The CCD approximation\n",
    "These equations can be reduced to (after several applications of Wick's theorem) to, for all $i > j$ and all $a  > b$,"
   ]
  },
  {
   "cell_type": "markdown",
   "metadata": {},
   "source": [
    "$$\n",
    "0 = \\langle ab \\vert \\hat{v} \\vert ij \\rangle + \\left(\\epsilon_a+\\epsilon_b-\\epsilon_i-\\epsilon_j\\right)t_{ij}^{ab}  \\nonumber\n",
    "$$"
   ]
  },
  {
   "cell_type": "markdown",
   "metadata": {},
   "source": [
    "$$\n",
    "+\\frac{1}{2}\\sum_{cd} \\langle ab \\vert \\hat{v} \\vert cd \\rangle t_{ij}^{cd}+\\frac{1}{2}\\sum_{kl} \\langle kl \\vert \\hat{v} \\vert ij \\rangle t_{kl}^{ab}+\\hat{P}(ij\\vert ab)\\sum_{kc} \\langle kb \\vert \\hat{v} \\vert cj \\rangle t_{ik}^{ac}  \\nonumber\n",
    "$$"
   ]
  },
  {
   "cell_type": "markdown",
   "metadata": {},
   "source": [
    "$$\n",
    "+\\frac{1}{4}\\sum_{klcd} \\langle kl \\vert \\hat{v} \\vert cd \\rangle t_{ij}^{cd}t_{kl}^{ab}+\\hat{P}(ij)\\sum_{klcd} \\langle kl \\vert \\hat{v} \\vert cd \\rangle t_{ik}^{ac}t_{jl}^{bd} \\nonumber\n",
    "$$"
   ]
  },
  {
   "cell_type": "markdown",
   "metadata": {},
   "source": [
    "<!-- Equation labels as ordinary links -->\n",
    "<div id=\"eq:ccd\"></div>\n",
    "\n",
    "$$\n",
    "\\begin{equation} \n",
    "-\\frac{1}{2}\\hat{P}(ij)\\sum_{klcd} \\langle kl \\vert \\hat{v} \\vert cd \\rangle t_{ik}^{dc}t_{lj}^{ab}-\\frac{1}{2}\\hat{P}(ab)\\sum_{klcd} \\langle kl \\vert \\hat{v} \\vert cd \\rangle t_{lk}^{ac}t_{ij}^{db},\n",
    "\\label{eq:ccd} \\tag{1}\n",
    "\\end{equation}\n",
    "$$"
   ]
  },
  {
   "cell_type": "markdown",
   "metadata": {},
   "source": [
    "where we have defined"
   ]
  },
  {
   "cell_type": "markdown",
   "metadata": {},
   "source": [
    "$$\n",
    "\\hat{P}\\left(ab\\right)= 1-\\hat{P}_{ab},\n",
    "$$"
   ]
  },
  {
   "cell_type": "markdown",
   "metadata": {},
   "source": [
    "where $\\hat{P}_{ab}$ interchanges two particles occupying the quantum numbers $a$ and $b$. \n",
    "\n",
    "## The CCD approximation\n",
    "The operator $\\hat{P}(ij\\vert ab)$  is defined as"
   ]
  },
  {
   "cell_type": "markdown",
   "metadata": {},
   "source": [
    "$$\n",
    "\\hat{P}(ij\\vert ab) = (1-\\hat{P}_{ij})(1-\\hat{P}_{ab}).\n",
    "$$"
   ]
  },
  {
   "cell_type": "markdown",
   "metadata": {},
   "source": [
    "Recall also that the unknown amplitudes $t_{ij}^{ab}$\n",
    "represent anti-symmetrized matrix elements, meaning that they obey the same symmetry relations as the two-body interaction, that is"
   ]
  },
  {
   "cell_type": "markdown",
   "metadata": {},
   "source": [
    "$$\n",
    "t_{ij}^{ab}=-t_{ji}^{ab}=-t_{ij}^{ba}=t_{ji}^{ba}.\n",
    "$$"
   ]
  },
  {
   "cell_type": "markdown",
   "metadata": {},
   "source": [
    "The two-body matrix elements are also anti-symmetrized, meaning that"
   ]
  },
  {
   "cell_type": "markdown",
   "metadata": {},
   "source": [
    "$$\n",
    "\\langle ab \\vert \\hat{v} \\vert ij \\rangle = -\\langle ab \\vert \\hat{v} \\vert ji \\rangle= -\\langle ba \\vert \\hat{v} \\vert ij \\rangle=\\langle ba \\vert \\hat{v} \\vert ji \\rangle.\n",
    "$$"
   ]
  },
  {
   "cell_type": "markdown",
   "metadata": {},
   "source": [
    "The non-linear equations for the unknown amplitudes  $t_{ij}^{ab}$ are solved iteratively. We discuss the implementation of these equations below.\n",
    "\n",
    "## Approximations to the full CCD equations\n",
    "\n",
    "It is useful to make approximations to the equations for the amplitudes. The standard method for solving these equations is to set up an iterative scheme where method's like Newton's method or similar root searching methods are used to find the amplitudes. \n",
    "Itreative solvers need a guess for the amplitudes. A good starting point is to use the correlated wave operator from perturbation theory to\n",
    "first order in the interaction.\n",
    "This means that we define the zeroth approximation to the amplitudes as"
   ]
  },
  {
   "cell_type": "markdown",
   "metadata": {},
   "source": [
    "$$\n",
    "t^{(0)}=\\frac{\\langle ab \\vert \\hat{v} \\vert ij \\rangle}{\\left(\\epsilon_i+\\epsilon_j-\\epsilon_a-\\epsilon_b\\right)},\n",
    "$$"
   ]
  },
  {
   "cell_type": "markdown",
   "metadata": {},
   "source": [
    "leading to our first approximation for the correlation energy at the CCD level to be equal to second-order perturbation theory without $1p-1h$ excitations, namely"
   ]
  },
  {
   "cell_type": "markdown",
   "metadata": {},
   "source": [
    "$$\n",
    "\\Delta E_{\\mathrm{CCD}}^{(0)}=\\frac{1}{4}\\sum_{abij} \\frac{\\langle ij \\vert \\hat{v} \\vert ab \\rangle \\langle ab \\vert \\hat{v} \\vert ij \\rangle}{\\left(\\epsilon_i+\\epsilon_j-\\epsilon_a-\\epsilon_b\\right)}.\n",
    "$$"
   ]
  },
  {
   "cell_type": "markdown",
   "metadata": {},
   "source": [
    "## Approximations to the full CCD equations\n",
    "With this starting point, we are now ready to solve Eq. ([eq:ccd](#eq:ccd)) iteratively. Before we attack the full equations, it is however instructive to study a truncated version of the equations. We will first study the following approximation where we take away all terms except the linear terms that involve the single-particle energies and the the two-particle intermediate excitations, that is"
   ]
  },
  {
   "cell_type": "markdown",
   "metadata": {},
   "source": [
    "<!-- Equation labels as ordinary links -->\n",
    "<div id=\"eq:ccd1\"></div>\n",
    "\n",
    "$$\n",
    "\\begin{equation}\n",
    "0 = \\langle ab \\vert \\hat{v} \\vert ij \\rangle + \\left(\\epsilon_a+\\epsilon_b-\\epsilon_i-\\epsilon_j\\right)t_{ij}^{ab}+\\frac{1}{2}\\sum_{cd} \\langle ab \\vert \\hat{v} \\vert cd \\rangle t_{ij}^{cd}.\n",
    "\\label{eq:ccd1} \\tag{2}\n",
    "\\end{equation}\n",
    "$$"
   ]
  },
  {
   "cell_type": "markdown",
   "metadata": {},
   "source": [
    "## Approximations to the full CCD equations\n",
    "Setting the single-particle energies for the hole states equal to an energy variable $\\omega = \\epsilon_i+\\epsilon_j$, Eq. ([eq:ccd1](#eq:ccd1)) reduces to the\n",
    "well-known equations for the so-called $G$-matrix, widely used in [infinite matter and finite nuclei studies](http://www.sciencedirect.com/science/journal/03701573/261/3-4). The equation can then be reordered and solved by matrix inversion.  To see this let us define the following quantity"
   ]
  },
  {
   "cell_type": "markdown",
   "metadata": {},
   "source": [
    "$$\n",
    "\\tau_{ij}^{ab}= \\left(\\omega-\\epsilon_a-\\epsilon_b\\right)t_{ij}^{ab},\n",
    "$$"
   ]
  },
  {
   "cell_type": "markdown",
   "metadata": {},
   "source": [
    "and inserting"
   ]
  },
  {
   "cell_type": "markdown",
   "metadata": {},
   "source": [
    "$$\n",
    "1=\\frac{\\left(\\omega-\\epsilon_c-\\epsilon_d\\right)}{\\left(\\omega-\\epsilon_c-\\epsilon_d\\right)},\n",
    "$$"
   ]
  },
  {
   "cell_type": "markdown",
   "metadata": {},
   "source": [
    "in the intermediate sums over $cd$ in Eq. ([eq:ccd1](#eq:ccd1)), we can rewrite the latter equation as"
   ]
  },
  {
   "cell_type": "markdown",
   "metadata": {},
   "source": [
    "$$\n",
    "\\tau_{ij}^{ab}(\\omega)= \\langle ab \\vert \\hat{v} \\vert ij \\rangle + \\frac{1}{2}\\sum_{cd} \\langle ab \\vert \\hat{v} \\vert cd \\rangle \\frac{1}{\\omega-\\epsilon_c-\\epsilon_d}\\tau_{ij}^{cd}(\\omega),\n",
    "$$"
   ]
  },
  {
   "cell_type": "markdown",
   "metadata": {},
   "source": [
    "where we have indicated an explicit energy dependence. This equation, transforming a two-particle configuration into a single index, can be transformed into a matrix inversion problem.  Solving the equations for a fixed energy $\\omega$ allows us to compare directly with results from Green's function theory when only two-particle intermediate states are included. \n",
    "\n",
    "## Approximations to the full CCD equations\n",
    "To solve Eq. ([eq:ccd1](#eq:ccd1)), we would thus start with a guess for the unknown amplitudes, typically using the wave operator defined by first order in perturbation theory, leading to a zeroth approximation to the energy given by second-order perturbation theory for the correlation energy.\n",
    "A simple approach to the solution of  Eq. ([eq:ccd1](#eq:ccd1)), is to thus to\n",
    "1. Start with a guess for the amplitudes and compute the zeroth approximation to the correlation energy\n",
    "\n",
    "2. Use the ansatz for the amplitudes to solve Eq. ([eq:ccd1](#eq:ccd1)) via for example your root-finding method of choice (Newton's method or modifications thereof can be used) and continue these iterations till the correlation energy does not change more than a prefixed quantity $\\lambda$; $\\Delta E_{\\mathrm{CCD}}^{(i)}-\\Delta E_{\\mathrm{CCD}}^{(i-1)} \\le \\lambda$.\n",
    "\n",
    "3. It is common during the iterations to scale the amplitudes with a parameter $\\alpha$, with $\\alpha \\in (0,1]$ as  $t^{(i)}=\\alpha t^{(i)}+(1-\\alpha)t^{(i-1)}$.\n",
    "\n",
    "## Approximations to the full CCD equations\n",
    "The next approximation is to include the two-hole term in Eq. ([eq:ccd](#eq:ccd)), a term which allow us to make a link with Green's function theory with two-particle and two-hole correlations. This means that we solve"
   ]
  },
  {
   "cell_type": "markdown",
   "metadata": {},
   "source": [
    "<!-- Equation labels as ordinary links -->\n",
    "<div id=\"eq:ccd2\"></div>\n",
    "\n",
    "$$\n",
    "\\begin{equation}\n",
    "0 = \\langle ab \\vert \\hat{v} \\vert ij \\rangle + \\left(\\epsilon_a+\\epsilon_b-\\epsilon_i-\\epsilon_j\\right)t_{ij}^{ab}+\\frac{1}{2}\\sum_{cd} \\langle ab \\vert \\hat{v} \\vert cd \\rangle t_{ij}^{cd}+\\frac{1}{2}\\sum_{kl} \\langle kl \\vert \\hat{v} \\vert ij \\rangle t_{kl}^{ab}.\n",
    "\\label{eq:ccd2} \\tag{3}\n",
    "\\end{equation}\n",
    "$$"
   ]
  },
  {
   "cell_type": "markdown",
   "metadata": {},
   "source": [
    "This equation is solved the same way as we would do for Eq. ([eq:ccd1](#eq:ccd1)). The final step is then to include all terms in Eq. ([eq:ccd](#eq:ccd)). \n",
    "\n",
    "\n",
    "## Introduction to studies of infinite matter\n",
    "\n",
    "\n",
    "Studies of infinite nuclear matter play an important role  in nuclear physics. The aim of this part of the lectures is to provide the necessary ingredients for perfoming studies of neutron star matter (or matter in $\\beta$-equilibrium) and symmetric nuclear matter. \n",
    "\n",
    "Here we will study infinite neutron matter \n",
    "* at the Hartree-Fock with realistic nuclear forces and\n",
    "\n",
    "* using many-body methods like coupled-cluster theory or many-body perturbation theory\n",
    "\n",
    "## Infinite nuclear matter and neutron star matter\n",
    "\n",
    "Studies of dense baryonic matter are of central importance to our basic understanding \n",
    "of the stability of nuclear matter, spanning from matter at high densities and temperatures\n",
    "to matter as found within dense astronomical objects  like neutron stars. \n",
    "\n",
    "Neutron star matter\n",
    "at densities of  0.1 fm$^{-3}$ and greater, is often assumed to \n",
    "be made of mainly neutrons, protons, electrons and \n",
    "muons in beta equilibrium. However, other baryons like various hyperons may exist, as well as possible mesonic condensates and transitions to quark degrees of freedom at higher densities. \n",
    "Here we focus on specific definitions of various phases and focus \n",
    "on distinct phases of matter such as pure baryonic\n",
    "matter and/or quark matter.\n",
    "The composition of matter is then \n",
    "determined by the requirements of chemical and electrical equilibrium.\n",
    "Furthermore, we will also consider matter at temperatures much lower\n",
    "than the typical Fermi energies.\n",
    "\n",
    "## Properties of infinite nuclear matter\n",
    "\n",
    "The equilibrium conditions are governed by the weak processes \n",
    "(normally referred to as the processes\n",
    "for $\\beta$-equilibrium)"
   ]
  },
  {
   "cell_type": "markdown",
   "metadata": {},
   "source": [
    "<!-- Equation labels as ordinary links -->\n",
    "<div id=\"eq:betadecay\"></div>\n",
    "\n",
    "$$\n",
    "\\begin{equation} \n",
    "      b_1 \\rightarrow b_2 + l +\\bar{\\nu}_l \\hspace{1cm} b_2 +l \\rightarrow b_1 \n",
    "+\\nu_l,\n",
    "\\label{eq:betadecay} \\tag{4}\n",
    "\\end{equation}\n",
    "$$"
   ]
  },
  {
   "cell_type": "markdown",
   "metadata": {},
   "source": [
    "where $b_1$ and $b_2$ refer to for example the baryons being a neutron and a proton, \n",
    "respectively, \n",
    "$l$ is either an electron or a muon and  $\\bar{\\nu}_l $\n",
    "and $\\nu_l$ their respective anti-neutrinos and neutrinos. Muons typically \n",
    "appear at\n",
    "a density close to nuclear matter saturation density, the latter being"
   ]
  },
  {
   "cell_type": "markdown",
   "metadata": {},
   "source": [
    "$$\n",
    "n_0 \\approx 0.16 \\pm 0.02 \\hspace{1cm} \\mathrm{fm}^{-3},\n",
    "$$"
   ]
  },
  {
   "cell_type": "markdown",
   "metadata": {},
   "source": [
    "with a corresponding binding energy $E_0$ \n",
    "for symmetric nuclear matter (SNM) at saturation density of"
   ]
  },
  {
   "cell_type": "markdown",
   "metadata": {},
   "source": [
    "$$\n",
    "E_0 = B/A=-15.6\\pm 0.2 \\hspace{1cm} \\mathrm{MeV}.\n",
    "$$"
   ]
  },
  {
   "cell_type": "markdown",
   "metadata": {},
   "source": [
    "## The infinite neutron gas as a homogenous system\n",
    "\n",
    "This is a homogeneous system and the one-particle wave functions are given by plane wave functions normalized to a volume $\\Omega$ \n",
    "for a box with length $L$ (the limit $L\\rightarrow \\infty$ is to be taken after we have computed various expectation values)"
   ]
  },
  {
   "cell_type": "markdown",
   "metadata": {},
   "source": [
    "$$\n",
    "\\psi_{\\mathbf{k}\\sigma}(\\mathbf{r})= \\frac{1}{\\sqrt{\\Omega}}\\exp{(i\\mathbf{kr})}\\xi_{\\sigma}\n",
    "$$"
   ]
  },
  {
   "cell_type": "markdown",
   "metadata": {},
   "source": [
    "where $\\mathbf{k}$ is the wave number and  $\\xi_{\\sigma}$ is a spin function for either spin up or down"
   ]
  },
  {
   "cell_type": "markdown",
   "metadata": {},
   "source": [
    "$$\n",
    "\\xi_{\\sigma=+1/2}=\\left(\\begin{array}{c} 1 \\\\ 0 \\end{array}\\right) \\hspace{0.5cm}\n",
    "\\xi_{\\sigma=-1/2}=\\left(\\begin{array}{c} 0 \\\\ 1 \\end{array}\\right).\n",
    "$$"
   ]
  },
  {
   "cell_type": "markdown",
   "metadata": {},
   "source": [
    "## Periodic boundary conditions and single-particle states\n",
    "\n",
    "When using periodic boundary conditions, the \n",
    "discrete-momentum single-particle basis functions"
   ]
  },
  {
   "cell_type": "markdown",
   "metadata": {},
   "source": [
    "$$\n",
    "\\phi_{\\mathbf{k}}(\\mathbf{r}) =\n",
    "e^{i\\mathbf{k}\\cdot \\mathbf{r}}/L^{d/2}\n",
    "$$"
   ]
  },
  {
   "cell_type": "markdown",
   "metadata": {},
   "source": [
    "are associated with \n",
    "the single-particle energy"
   ]
  },
  {
   "cell_type": "markdown",
   "metadata": {},
   "source": [
    "<!-- Equation labels as ordinary links -->\n",
    "<div id=\"_auto1\"></div>\n",
    "\n",
    "$$\n",
    "\\begin{equation}\n",
    "  \\varepsilon_{n_{x}, n_{y}} = \\frac{\\hbar^{2}}{2m} \\left( \\frac{2\\pi }{L}\\right)^{2}\\left( n_{x}^{2} + n_{y}^{2}\\right)\n",
    "\\label{_auto1} \\tag{5}\n",
    "\\end{equation}\n",
    "$$"
   ]
  },
  {
   "cell_type": "markdown",
   "metadata": {},
   "source": [
    "for two-dimensional sytems and"
   ]
  },
  {
   "cell_type": "markdown",
   "metadata": {},
   "source": [
    "<!-- Equation labels as ordinary links -->\n",
    "<div id=\"_auto2\"></div>\n",
    "\n",
    "$$\n",
    "\\begin{equation}\n",
    "  \\varepsilon_{n_{x}, n_{y}, n_{z}} = \\frac{\\hbar^{2}}{2m}\n",
    "  \\left( \\frac{2\\pi }{L}\\right)^{2}\n",
    "  \\left( n_{x}^{2} + n_{y}^{2} + n_{z}^{2}\\right)\n",
    "\\label{_auto2} \\tag{6}\n",
    "\\end{equation}\n",
    "$$"
   ]
  },
  {
   "cell_type": "markdown",
   "metadata": {},
   "source": [
    "for three-dimensional systems.\n",
    "\n",
    "## More on periodic boundary conditions and single-particle states\n",
    "\n",
    "The table on the next slide illustrates  how single-particle energies\n",
    "    fill energy shells in a two-dimensional neutron box.\n",
    "  Here $n_{x}$ and $n_{y}$ are the momentum quantum numbers,\n",
    "  $n_{x}^{2} + n_{y}^{2}$ determines the single-particle \n",
    "  energy level, $N_{\\uparrow \\downarrow }$ represents the \n",
    "  cumulated number of spin-orbitals in an unpolarized spin\n",
    "  phase, and $N_{\\uparrow \\uparrow }$ stands for the\n",
    "  cumulated number of spin-orbitals in a spin-polarized\n",
    "  system.\n",
    "\n",
    "\n",
    "\n",
    "## Magic numbers for the two-dimensional neutron (or electron)  gas\n",
    "\n",
    "\n",
    "<table border=\"1\">\n",
    "<thead>\n",
    "<tr><th align=\"center\">$n_{x}^{2}+n_{y}^{2}$</th> <th align=\"center\">$n_{x}$</th> <th align=\"center\">$n_{y}$</th> <th align=\"center\">$N_{\\uparrow \\downarrow }$</th> <th align=\"center\">$N_{\\uparrow \\uparrow }$</th> </tr>\n",
    "</thead>\n",
    "<tbody>\n",
    "<tr><td align=\"center\">   0                        </td> <td align=\"center\">   0          </td> <td align=\"center\">   0          </td> <td align=\"center\">   2                             </td> <td align=\"center\">   1                           </td> </tr>\n",
    "<tr><td align=\"center\">   1                        </td> <td align=\"center\">   -1         </td> <td align=\"center\">   0          </td> <td align=\"center\">                                 </td> <td align=\"center\">                               </td> </tr>\n",
    "<tr><td align=\"center\">                            </td> <td align=\"center\">   1          </td> <td align=\"center\">   0          </td> <td align=\"center\">                                 </td> <td align=\"center\">                               </td> </tr>\n",
    "<tr><td align=\"center\">                            </td> <td align=\"center\">   0          </td> <td align=\"center\">   -1         </td> <td align=\"center\">                                 </td> <td align=\"center\">                               </td> </tr>\n",
    "<tr><td align=\"center\">                            </td> <td align=\"center\">   0          </td> <td align=\"center\">   1          </td> <td align=\"center\">   10                            </td> <td align=\"center\">   5                           </td> </tr>\n",
    "<tr><td align=\"center\">   2                        </td> <td align=\"center\">   -1         </td> <td align=\"center\">   -1         </td> <td align=\"center\">                                 </td> <td align=\"center\">                               </td> </tr>\n",
    "<tr><td align=\"center\">                            </td> <td align=\"center\">   -1         </td> <td align=\"center\">   1          </td> <td align=\"center\">                                 </td> <td align=\"center\">                               </td> </tr>\n",
    "<tr><td align=\"center\">                            </td> <td align=\"center\">   1          </td> <td align=\"center\">   -1         </td> <td align=\"center\">                                 </td> <td align=\"center\">                               </td> </tr>\n",
    "<tr><td align=\"center\">                            </td> <td align=\"center\">   1          </td> <td align=\"center\">   1          </td> <td align=\"center\">   18                            </td> <td align=\"center\">   9                           </td> </tr>\n",
    "<tr><td align=\"center\">   4                        </td> <td align=\"center\">   -2         </td> <td align=\"center\">   0          </td> <td align=\"center\">                                 </td> <td align=\"center\">                               </td> </tr>\n",
    "<tr><td align=\"center\">                            </td> <td align=\"center\">   2          </td> <td align=\"center\">   0          </td> <td align=\"center\">                                 </td> <td align=\"center\">                               </td> </tr>\n",
    "<tr><td align=\"center\">                            </td> <td align=\"center\">   0          </td> <td align=\"center\">   -2         </td> <td align=\"center\">                                 </td> <td align=\"center\">                               </td> </tr>\n",
    "<tr><td align=\"center\">                            </td> <td align=\"center\">   0          </td> <td align=\"center\">   2          </td> <td align=\"center\">   26                            </td> <td align=\"center\">   13                          </td> </tr>\n",
    "<tr><td align=\"center\">   5                        </td> <td align=\"center\">   -2         </td> <td align=\"center\">   -1         </td> <td align=\"center\">                                 </td> <td align=\"center\">                               </td> </tr>\n",
    "<tr><td align=\"center\">                            </td> <td align=\"center\">   2          </td> <td align=\"center\">   -1         </td> <td align=\"center\">                                 </td> <td align=\"center\">                               </td> </tr>\n",
    "<tr><td align=\"center\">                            </td> <td align=\"center\">   -2         </td> <td align=\"center\">   1          </td> <td align=\"center\">                                 </td> <td align=\"center\">                               </td> </tr>\n",
    "<tr><td align=\"center\">                            </td> <td align=\"center\">   2          </td> <td align=\"center\">   1          </td> <td align=\"center\">                                 </td> <td align=\"center\">                               </td> </tr>\n",
    "<tr><td align=\"center\">                            </td> <td align=\"center\">   -1         </td> <td align=\"center\">   -2         </td> <td align=\"center\">                                 </td> <td align=\"center\">                               </td> </tr>\n",
    "<tr><td align=\"center\">                            </td> <td align=\"center\">   -1         </td> <td align=\"center\">   2          </td> <td align=\"center\">                                 </td> <td align=\"center\">                               </td> </tr>\n",
    "<tr><td align=\"center\">                            </td> <td align=\"center\">   1          </td> <td align=\"center\">   -2         </td> <td align=\"center\">                                 </td> <td align=\"center\">                               </td> </tr>\n",
    "<tr><td align=\"center\">                            </td> <td align=\"center\">   1          </td> <td align=\"center\">   2          </td> <td align=\"center\">   42                            </td> <td align=\"center\">   21                          </td> </tr>\n",
    "</tbody>\n",
    "</table>\n",
    "\n",
    "\n",
    "\n",
    "## Three-dimensional neutron gas\n",
    "Using the same approach as made with the two-dimensional electron gas with the single-particle kinetic energy defined as"
   ]
  },
  {
   "cell_type": "markdown",
   "metadata": {},
   "source": [
    "$$\n",
    "\\frac{\\hbar^2}{2m}\\left(k_{n_x}^2+k_{n_y}^2k_{n_z}^2\\right),\n",
    "$$"
   ]
  },
  {
   "cell_type": "markdown",
   "metadata": {},
   "source": [
    "and"
   ]
  },
  {
   "cell_type": "markdown",
   "metadata": {},
   "source": [
    "$$\n",
    "k_{n_i}=\\frac{2\\pi n_i}{L} \\hspace{0.1cm} n_i = 0, \\pm 1, \\pm 2, \\dots,\n",
    "$$"
   ]
  },
  {
   "cell_type": "markdown",
   "metadata": {},
   "source": [
    "we can set up a similar table and obtain (assuming identical particles one and including spin up and spin down solutions)  for energies less than or equal to $n_{x}^{2}+n_{y}^{2}+n_{z}^{2}\\le 3$\n",
    "\n",
    "\n",
    "## Single-particle states for the three-dimensional neutron gas\n",
    "\n",
    "<table border=\"1\">\n",
    "<thead>\n",
    "<tr><th align=\"center\">$n_{x}^{2}+n_{y}^{2}+n_{z}^{2}$</th> <th align=\"center\">$n_{x}$</th> <th align=\"center\">$n_{y}$</th> <th align=\"center\">$n_{z}$</th> <th align=\"center\">$N_{\\uparrow \\downarrow }$</th> </tr>\n",
    "</thead>\n",
    "<tbody>\n",
    "<tr><td align=\"center\">   0                                  </td> <td align=\"center\">   0          </td> <td align=\"center\">   0          </td> <td align=\"center\">   0          </td> <td align=\"center\">   2                             </td> </tr>\n",
    "<tr><td align=\"center\">   1                                  </td> <td align=\"center\">   -1         </td> <td align=\"center\">   0          </td> <td align=\"center\">   0          </td> <td align=\"center\">                                 </td> </tr>\n",
    "<tr><td align=\"center\">   1                                  </td> <td align=\"center\">   1          </td> <td align=\"center\">   0          </td> <td align=\"center\">   0          </td> <td align=\"center\">                                 </td> </tr>\n",
    "<tr><td align=\"center\">   1                                  </td> <td align=\"center\">   0          </td> <td align=\"center\">   -1         </td> <td align=\"center\">   0          </td> <td align=\"center\">                                 </td> </tr>\n",
    "<tr><td align=\"center\">   1                                  </td> <td align=\"center\">   0          </td> <td align=\"center\">   1          </td> <td align=\"center\">   0          </td> <td align=\"center\">                                 </td> </tr>\n",
    "<tr><td align=\"center\">   1                                  </td> <td align=\"center\">   0          </td> <td align=\"center\">   0          </td> <td align=\"center\">   -1         </td> <td align=\"center\">                                 </td> </tr>\n",
    "<tr><td align=\"center\">   1                                  </td> <td align=\"center\">   0          </td> <td align=\"center\">   0          </td> <td align=\"center\">   1          </td> <td align=\"center\">   14                            </td> </tr>\n",
    "<tr><td align=\"center\">   2                                  </td> <td align=\"center\">   -1         </td> <td align=\"center\">   -1         </td> <td align=\"center\">   0          </td> <td align=\"center\">                                 </td> </tr>\n",
    "<tr><td align=\"center\">   2                                  </td> <td align=\"center\">   -1         </td> <td align=\"center\">   1          </td> <td align=\"center\">   0          </td> <td align=\"center\">                                 </td> </tr>\n",
    "<tr><td align=\"center\">   2                                  </td> <td align=\"center\">   1          </td> <td align=\"center\">   -1         </td> <td align=\"center\">   0          </td> <td align=\"center\">                                 </td> </tr>\n",
    "<tr><td align=\"center\">   2                                  </td> <td align=\"center\">   1          </td> <td align=\"center\">   1          </td> <td align=\"center\">   0          </td> <td align=\"center\">                                 </td> </tr>\n",
    "<tr><td align=\"center\">   2                                  </td> <td align=\"center\">   -1         </td> <td align=\"center\">   0          </td> <td align=\"center\">   -1         </td> <td align=\"center\">                                 </td> </tr>\n",
    "<tr><td align=\"center\">   2                                  </td> <td align=\"center\">   -1         </td> <td align=\"center\">   0          </td> <td align=\"center\">   1          </td> <td align=\"center\">                                 </td> </tr>\n",
    "<tr><td align=\"center\">   2                                  </td> <td align=\"center\">   1          </td> <td align=\"center\">   0          </td> <td align=\"center\">   -1         </td> <td align=\"center\">                                 </td> </tr>\n",
    "<tr><td align=\"center\">   2                                  </td> <td align=\"center\">   1          </td> <td align=\"center\">   0          </td> <td align=\"center\">   1          </td> <td align=\"center\">                                 </td> </tr>\n",
    "<tr><td align=\"center\">   2                                  </td> <td align=\"center\">   0          </td> <td align=\"center\">   -1         </td> <td align=\"center\">   -1         </td> <td align=\"center\">                                 </td> </tr>\n",
    "<tr><td align=\"center\">   2                                  </td> <td align=\"center\">   0          </td> <td align=\"center\">   -1         </td> <td align=\"center\">   1          </td> <td align=\"center\">                                 </td> </tr>\n",
    "<tr><td align=\"center\">   2                                  </td> <td align=\"center\">   0          </td> <td align=\"center\">   1          </td> <td align=\"center\">   -1         </td> <td align=\"center\">                                 </td> </tr>\n",
    "<tr><td align=\"center\">   2                                  </td> <td align=\"center\">   0          </td> <td align=\"center\">   1          </td> <td align=\"center\">   1          </td> <td align=\"center\">   38                            </td> </tr>\n",
    "<tr><td align=\"center\">   3                                  </td> <td align=\"center\">   -1         </td> <td align=\"center\">   -1         </td> <td align=\"center\">   -1         </td> <td align=\"center\">                                 </td> </tr>\n",
    "<tr><td align=\"center\">   3                                  </td> <td align=\"center\">   -1         </td> <td align=\"center\">   -1         </td> <td align=\"center\">   1          </td> <td align=\"center\">                                 </td> </tr>\n",
    "<tr><td align=\"center\">   3                                  </td> <td align=\"center\">   -1         </td> <td align=\"center\">   1          </td> <td align=\"center\">   -1         </td> <td align=\"center\">                                 </td> </tr>\n",
    "<tr><td align=\"center\">   3                                  </td> <td align=\"center\">   -1         </td> <td align=\"center\">   1          </td> <td align=\"center\">   1          </td> <td align=\"center\">                                 </td> </tr>\n",
    "<tr><td align=\"center\">   3                                  </td> <td align=\"center\">   1          </td> <td align=\"center\">   -1         </td> <td align=\"center\">   -1         </td> <td align=\"center\">                                 </td> </tr>\n",
    "<tr><td align=\"center\">   3                                  </td> <td align=\"center\">   1          </td> <td align=\"center\">   -1         </td> <td align=\"center\">   1          </td> <td align=\"center\">                                 </td> </tr>\n",
    "<tr><td align=\"center\">   3                                  </td> <td align=\"center\">   1          </td> <td align=\"center\">   1          </td> <td align=\"center\">   -1         </td> <td align=\"center\">                                 </td> </tr>\n",
    "<tr><td align=\"center\">   3                                  </td> <td align=\"center\">   1          </td> <td align=\"center\">   1          </td> <td align=\"center\">   1          </td> <td align=\"center\">   54                            </td> </tr>\n",
    "</tbody>\n",
    "</table>\n",
    "Continuing in this way we get for $n_{x}^{2}+n_{y}^{2}+n_{z}^{2}=4$  a total of 12 additional states, resulting in $?$ as a new magic number. We can continue like this by adding more shells.\n",
    "\n",
    "When performing calculations based on many-body perturbation theory, Coupled cluster theory or other many-body methods, we need then to add states above the Fermi level in order to sum over single-particle states which are not occupied.  \n",
    "\n",
    "\n",
    "\n",
    "\n",
    "## Input parameters\n",
    "Every number of particles for filled shells defines also the number of particles to be used in a given calculation. We use the number of particles to define  the density of the system"
   ]
  },
  {
   "cell_type": "markdown",
   "metadata": {},
   "source": [
    "$$\n",
    "\\rho = g \\frac{k_F^3}{6\\pi^2},\n",
    "$$"
   ]
  },
  {
   "cell_type": "markdown",
   "metadata": {},
   "source": [
    "where you need to define $k_F$ and the degeneracy $g$, which is two for one type of spin-$1/2$ particles and four for symmetric nuclear matter.\n",
    "\n",
    "With  the density we can define the length $L$ of the box used with periodic boundary contributions, that is use the relation"
   ]
  },
  {
   "cell_type": "markdown",
   "metadata": {},
   "source": [
    "$$\n",
    "V= L^3= \\frac{A}{\\rho}.\n",
    "$$"
   ]
  },
  {
   "cell_type": "markdown",
   "metadata": {},
   "source": [
    "Finally we can use $L$ to define the spacing to set up the spacing between varipus $k$-values, that is"
   ]
  },
  {
   "cell_type": "markdown",
   "metadata": {},
   "source": [
    "$$\n",
    "\\Delta k = \\frac{2\\pi}{L}.\n",
    "$$"
   ]
  },
  {
   "cell_type": "markdown",
   "metadata": {},
   "source": [
    "Here, $A$ can be the number of nucleons. \n",
    "\n",
    "## Potential model employed in code development\n",
    "\n",
    "The interaction we will use for these calculations is a semirealistic\n",
    "nucleon-nucleon potential known as the Minnesota potential"
   ]
  },
  {
   "cell_type": "markdown",
   "metadata": {},
   "source": [
    "$$\n",
    "V_{\\alpha}\\left(r\\right)=V_{\\alpha}\\exp{(-\\alpha r^{2})}.\n",
    "$$"
   ]
  },
  {
   "cell_type": "markdown",
   "metadata": {},
   "source": [
    "The spin and isospin\n",
    "dependence of the Minnesota potential is given by"
   ]
  },
  {
   "cell_type": "markdown",
   "metadata": {},
   "source": [
    "<!-- Equation labels as ordinary links -->\n",
    "<div id=\"_auto3\"></div>\n",
    "\n",
    "$$\n",
    "\\begin{equation}\n",
    "V\\left( r\\right)=\\frac{1}{2}\\left( V_{R}+\\frac{1}{2}\\left(1+P_{12}^{\\sigma}\\right) V_{T}+\\frac{1}{2}\\left(1-P_{12}^{\\sigma}\\right) V_{S}\\right)\\left(1-P_{12}^{\\sigma}P_{12}^{\\tau}\\right),\n",
    "\\label{_auto3} \\tag{7}\n",
    "\\end{equation}\n",
    "$$"
   ]
  },
  {
   "cell_type": "markdown",
   "metadata": {},
   "source": [
    "where"
   ]
  },
  {
   "cell_type": "markdown",
   "metadata": {},
   "source": [
    "$$\n",
    "P_{12}^{\\sigma}=\\frac{1}{2}\\left(1+\\sigma_{1}\\cdot\\sigma_{2}\\right),\n",
    "$$"
   ]
  },
  {
   "cell_type": "markdown",
   "metadata": {},
   "source": [
    "and"
   ]
  },
  {
   "cell_type": "markdown",
   "metadata": {},
   "source": [
    "$$\n",
    "P_{12}^{\\tau}=\\frac{1}{2}\\left( 1+\\tau_{1}\\cdot\\tau_{2}\\right)\n",
    "$$"
   ]
  },
  {
   "cell_type": "markdown",
   "metadata": {},
   "source": [
    "are\n",
    "the spin and isospin exchange operators, respectively. \n",
    "\n",
    "## Fourier transform\n",
    "A Fourier\n",
    "transform to momentum space of the radial part"
   ]
  },
  {
   "cell_type": "markdown",
   "metadata": {},
   "source": [
    "$$\n",
    "V_{\\alpha}\\left(r\\right)\n",
    "$$"
   ]
  },
  {
   "cell_type": "markdown",
   "metadata": {},
   "source": [
    "is rather simple since\n",
    "the radial depends only on the magnitude of the relative distance and\n",
    "thereby the relative momentum"
   ]
  },
  {
   "cell_type": "markdown",
   "metadata": {},
   "source": [
    "$$\n",
    "\\mathbf{q}=\\frac{1}{2}\\left(\\mathbf{k}_{p}-\\mathbf{k}_{q}-\\mathbf{k}_{r}+\\mathbf{k}_{s}\\right)\n",
    "$$"
   ]
  },
  {
   "cell_type": "markdown",
   "metadata": {},
   "source": [
    "Omitting spin and isospin dependencies, the momentum space version of the\n",
    "interaction reads"
   ]
  },
  {
   "cell_type": "markdown",
   "metadata": {},
   "source": [
    "<!-- Equation labels as ordinary links -->\n",
    "<div id=\"_auto4\"></div>\n",
    "\n",
    "$$\n",
    "\\begin{equation}\n",
    "\\langle \\mathbf{k}_p \\mathbf{k}_q \\vert V_{\\alpha}\\vert\\mathbf{k}_r\\mathbf{k}_s\\rangle=\n",
    "\\frac{V_{\\alpha}}{L^{3}}\\left(\\frac{\\pi}{\\alpha}\\right)^{3/2}\\exp{(\\frac{-q^{2}}{4\\alpha})}\\delta_{\\mathbf{k}_{p}+\\mathbf{k}_{q},\\mathbf{k}_{r}+\\mathbf{k}_{s}}\n",
    "\\label{_auto4} \\tag{8}\n",
    "\\end{equation}\n",
    "$$"
   ]
  },
  {
   "cell_type": "markdown",
   "metadata": {},
   "source": [
    "## Developing a program for infinite matter\n",
    "\n",
    "* Structure a code in terms of functions.\n",
    "\n",
    "* Modularize your codes.\n",
    "\n",
    "* Be able to  read input data flexibly.\n",
    "\n",
    "* Write unit tests (test functions) and let your code undergo heavy testing.\n",
    "\n",
    "* Refactor code in terms of classes (instead of functions only).\n",
    "\n",
    "* Conduct and automate large-scale numerical experiments.\n",
    "\n",
    "* New code is added in a modular fashion to a library (modules).\n",
    "\n",
    "* Programs are run through convenient user interfaces.\n",
    "\n",
    "* Use scripts in order to automatize  tedious manual work.\n",
    "\n",
    "* Make sure your scientific investigations are reproducible and document properly your results.\n",
    "\n",
    "* Use version control software like for example **git**\n",
    "\n",
    "## Codes and reading material\n",
    "\n",
    "* The codes are all available from the coming Lectures Notes in Physics volume [An advanced course in computational nuclear physics: Bridging the scales from quarks to neutron stars, M. Hjorth-Jensen, M. P. Lombardo, U. van Kolck, Editors](https://github.com/ManyBodyPhysics/LectureNotesPhysics/tree/master/doc/src/Chapter8-programs)\n",
    "\n",
    "* For more reading on CCD see chapter 8 of the coming Lectures Notes in Physics volume [An advanced course in computational nuclear physics: Bridging the scales from quarks to neutron stars, M. Hjorth-Jensen, M. P. Lombardo, U. van Kolck, Editors](https://github.com/ManyBodyPhysics/LectureNotesPhysics/tree/master/doc/src/lnp.pdf)\n",
    "\n",
    "## The CCD equation\n",
    "The CCD equations can be written as"
   ]
  },
  {
   "cell_type": "markdown",
   "metadata": {},
   "source": [
    "$$\n",
    "\\left(\\epsilon_i+\\epsilon_j-\\epsilon_a-\\epsilon_b\\right)t_{ij}^{ab}\n",
    "  = \\langle ab \\vert \\hat{v} \\vert ij \\rangle  \\nonumber\n",
    "$$"
   ]
  },
  {
   "cell_type": "markdown",
   "metadata": {},
   "source": [
    "$$\n",
    "+\\frac{1}{2}\\sum_{cd} \\langle ab \\vert \\hat{v} \\vert cd \\rangle\n",
    "  t_{ij}^{cd}+\\frac{1}{2}\\sum_{kl} \\langle kl \\vert \\hat{v} \\vert ij\n",
    "  \\rangle t_{kl}^{ab}+\\hat{P}(ij\\vert ab)\\sum_{kc} \\langle kb \\vert\n",
    "  \\hat{v} \\vert cj \\rangle t_{ik}^{ac}  \\nonumber\n",
    "$$"
   ]
  },
  {
   "cell_type": "markdown",
   "metadata": {},
   "source": [
    "$$\n",
    "+\\frac{1}{4}\\sum_{klcd} \\langle kl \\vert \\hat{v} \\vert cd \\rangle\n",
    "  t_{ij}^{cd}t_{kl}^{ab}+\\hat{P}(ij)\\sum_{klcd} \\langle kl \\vert\n",
    "  \\hat{v} \\vert cd \\rangle t_{ik}^{ac}t_{jl}^{bd} \\nonumber\n",
    "$$"
   ]
  },
  {
   "cell_type": "markdown",
   "metadata": {},
   "source": [
    "<!-- Equation labels as ordinary links -->\n",
    "<div id=\"_auto5\"></div>\n",
    "\n",
    "$$\n",
    "\\begin{equation}  -\\frac{1}{2}\\hat{P}(ij)\\sum_{klcd} \\langle kl \\vert \\hat{v} \\vert\n",
    "  cd \\rangle t_{ik}^{dc}t_{lj}^{ab}-\\frac{1}{2}\\hat{P}(ab)\\sum_{klcd}\n",
    "  \\langle kl \\vert \\hat{v} \\vert cd \\rangle t_{lk}^{ac}t_{ij}^{db},\n",
    "\\label{_auto5} \\tag{9}\n",
    "\\end{equation}\n",
    "$$"
   ]
  },
  {
   "cell_type": "markdown",
   "metadata": {},
   "source": [
    "for all $i < j$ and all $a < b$, using the standard notation that\n",
    "  $a,b,...$ are particle states and $i,j,...$ are hole states. With\n",
    "  the CCD correlation energy given by"
   ]
  },
  {
   "cell_type": "markdown",
   "metadata": {},
   "source": [
    "<!-- Equation labels as ordinary links -->\n",
    "<div id=\"eq:ccdcorr\"></div>\n",
    "\n",
    "$$\n",
    "\\begin{equation}\n",
    "  \\Delta E_{CCD} = \\frac{1}{4} \\sum_{ijab}\n",
    "  \\langle ij \\vert\\hat{v}\\vert ab\\rangle t^{ab}_{ij}.\n",
    "\\label{eq:ccdcorr} \\tag{10}\n",
    "  \\end{equation}\n",
    "$$"
   ]
  },
  {
   "cell_type": "markdown",
   "metadata": {},
   "source": [
    "<!-- !split  -->\n",
    "## Solving the CCD equations\n",
    "  One way to solve these equations, is to write equation\n",
    "  ([eq:ccd2](#eq:ccd2)) as a series of iterative nonlinear algebraic equations"
   ]
  },
  {
   "cell_type": "markdown",
   "metadata": {},
   "source": [
    "$$\n",
    "t_{ij}^{ab}{}^{(n+1)} = \\frac{1}{\\epsilon^{ab}_{ij}} \\bigg(\\langle\n",
    "  ab \\vert \\hat{v} \\vert ij \\rangle  \\nonumber\n",
    "$$"
   ]
  },
  {
   "cell_type": "markdown",
   "metadata": {},
   "source": [
    "$$\n",
    "+\\frac{1}{2}\\sum_{cd} \\langle ab \\vert \\hat{v} \\vert cd \\rangle\n",
    "  t_{ij}^{cd}{}^{(n)}+\\frac{1}{2}\\sum_{kl} \\langle kl \\vert \\hat{v}\n",
    "  \\vert ij \\rangle t_{kl}^{ab}{}^{(n)}+\\hat{P}(ij\\vert ab)\\sum_{kc}\n",
    "  \\langle kb \\vert \\hat{v} \\vert cj \\rangle t_{ik}^{ac}{}^{(n)} \n",
    "  \\nonumber\n",
    "$$"
   ]
  },
  {
   "cell_type": "markdown",
   "metadata": {},
   "source": [
    "$$\n",
    "+\\frac{1}{4}\\sum_{klcd} \\langle kl \\vert \\hat{v} \\vert\n",
    "  cd \\rangle\n",
    "  t_{ij}^{cd}{}^{(n)}t_{kl}^{ab}{}^{(n)}+\\hat{P}(ij)\\sum_{klcd}\n",
    "  \\langle kl \\vert \\hat{v} \\vert cd \\rangle\n",
    "  t_{ik}^{ac}{}^{(n)}t_{jl}^{bd}{}^{(n)} \\nonumber\n",
    "$$"
   ]
  },
  {
   "cell_type": "markdown",
   "metadata": {},
   "source": [
    "<!-- Equation labels as ordinary links -->\n",
    "<div id=\"eq:ccd3\"></div>\n",
    "\n",
    "$$\n",
    "\\begin{equation}  -\\frac{1}{2}\\hat{P}(ij)\\sum_{klcd} \\langle kl \\vert \\hat{v} \\vert\n",
    "  cd \\rangle\n",
    "  t_{ik}^{dc}{}^{(n)}t_{lj}^{ab}{}^{(n)}-\\frac{1}{2}\\hat{P}(ab)\\sum_{klcd}\n",
    "  \\langle kl \\vert \\hat{v} \\vert cd \\rangle\n",
    "  t_{lk}^{ac}{}^{(n)}t_{ij}^{db}{}^{(n)} \\bigg),\n",
    "\\label{eq:ccd3} \\tag{11}\n",
    "  \\end{equation}\n",
    "$$"
   ]
  },
  {
   "cell_type": "markdown",
   "metadata": {},
   "source": [
    "for all $i < j$ and all $a < b$, where $\\epsilon^{ab}_{ij} =\\left(\\epsilon_i+\\epsilon_j-\\epsilon_a-\\epsilon_b\\right)$, and\n",
    "  $t_{ij}^{ab}{}^{(n)}$ is the $t$ amplitude for the nth iteration of\n",
    "  the series. This way, given some starting guess\n",
    "  $t_{ij}^{ab}{}^{(0)}$, we can generate subsequent $t$ amplitudes\n",
    "  that converges to some value. \n",
    "\n",
    "## Memory considerations\n",
    "\n",
    "  Care should thus be placed into how we store these objects. These are\n",
    "  objects with four indices and a  sensible first implementation\n",
    "  of the CCD equations would be to create two four-dimensional arrays to store the\n",
    "  objects. However, it is often more convenient to work with simple\n",
    "  one-dimensional arrays instead. \n",
    "\n",
    "   The goal of our code is to calculate the correlation energy,\n",
    "   $\\Delta E_{CCD}$, meaning that after each iteration of our equations, we use\n",
    "   our newest $t$ amplitudes to update the correlation energy"
   ]
  },
  {
   "cell_type": "markdown",
   "metadata": {},
   "source": [
    "<!-- Equation labels as ordinary links -->\n",
    "<div id=\"_auto6\"></div>\n",
    "\n",
    "$$\n",
    "\\begin{equation}\n",
    "  \\Delta E_{CCD}^{(n)} = \\frac{1}{4} \\sum_{ijab}\n",
    "  \\langle ij\\vert\\hat{v}\\vert ab\\rangle t^{ab}_{ij}{}^{(n)}.\n",
    "\\label{_auto6} \\tag{12}\n",
    "\\end{equation}\n",
    "$$"
   ]
  },
  {
   "cell_type": "markdown",
   "metadata": {},
   "source": [
    "We check that our result is converged by testing whether the\n",
    "  most recent iteration has changed the correlation energy by less\n",
    "  than some tolerance threshold $\\eta$,"
   ]
  },
  {
   "cell_type": "markdown",
   "metadata": {},
   "source": [
    "<!-- Equation labels as ordinary links -->\n",
    "<div id=\"_auto7\"></div>\n",
    "\n",
    "$$\n",
    "\\begin{equation}\n",
    "  \\eta > | \\Delta E_{CCD}^{(n+1)} - \\Delta E_{CCD}^{(n)} |.\n",
    "\\label{_auto7} \\tag{13}\n",
    "\\end{equation}\n",
    "$$"
   ]
  },
  {
   "cell_type": "markdown",
   "metadata": {},
   "source": [
    "## More on memory\n",
    "\n",
    "  One limitation that will be ran into while trying to do realistic\n",
    "  CCD calculations is that of memory. The four-indexed two-body matrix elements (TBMEs) and\n",
    "  $t$-amplitudes have to store a lot of elements, and the size of these\n",
    "  arrays can quickly exceed the available memory on\n",
    "  a machine. If a calculation wants to use 500 single-particle basis states, then\n",
    "  a structure like $\\langle pq\\vert v\\vert rs\\rangle $ will need a  length of 500 for each of\n",
    "  its four indices, which means it will have $500^4 = 625\\times 10^8$\n",
    "  elements. To get a handle on how much memory is used, consider the\n",
    "  elements as double-precision floating point type. One double takes\n",
    "  up 8 bytes of memory. This specific array would take up $8\\times 625\\times 10^8$ bytes\n",
    "  = $5000 \\times 10^8$ bytes = $500$ Gbytes of memory. \n",
    "\n",
    "\n",
    "## Using symmetries\n",
    "\n",
    "Most personal\n",
    "  computers in 2016 have 4-8 Gbytes of RAM, meaning that this calculation would\n",
    "  be way out of reach. There are supercomputers that can handle\n",
    "  applications using 500 Gbytes of memory, but we can quickly reduce\n",
    "  the total memory required by applying some physical arguments. In\n",
    "  addition to vanishing elements with repeated indices, mentioned\n",
    "  above, elements that do not obey certain symmetries are also\n",
    "  zero. Almost all realistic two-body forces preserve some quantities\n",
    "  due to symmetries in the interaction. For example, an interaction\n",
    "  with rotational symmetry will conserve angular momentum. This means\n",
    "  that a two-body ket state $\\vert rs\\rangle $, which has some set of quantum\n",
    "  numbers, will retain quantum numbers corresponding to the\n",
    "  interaction symmetries after being acted on by $\\hat{v}$. This state\n",
    "  is then projected onto $\\vert pq\\rangle $ with its own set of quantum\n",
    "  numbers. Thus $\\langle pq|v|rs\\rangle $ is only non-zero if $\\vert pq\\rangle$ and\n",
    "  $\\vert rs\\rangle $ share the same quantum numbers that are preserved by\n",
    "  $\\hat{v}$. In addition, because the cluster operators represent\n",
    "  excitations due to the interaction, $t_{ij}^{ab}$ is only non-zero\n",
    "  if $\\vert ij\\rangle $ has the same relevant quantum numbers as $\\vert ab\\rangle $.\n",
    "\n",
    "\n",
    "## Using symmetries II\n",
    "\n",
    "  To take advantage of this, these two-body ket states can be\n",
    "  organized into \"channels\" of shared quantum numbers. In the case\n",
    "  of the pairing model, the interaction preserves the total spin\n",
    "  projection of a two-body state, $S_{z}=s_{z1}+s_{z2}$. The single\n",
    "  particle states can have spin of +1/2 or -1/2, so there can be three\n",
    "  two-body channels with $S_{z}=-1,0,+1$. These channels can then be\n",
    "  indexed with a unique label in a similar way to the single particle\n",
    "  index scheme. In more complicated systems, there will be many more\n",
    "  channels involving multiple symmetries, so it is useful to create a\n",
    "  data structure that stores the relevant two-body quantum numbers to\n",
    "  keep track of the labeling scheme.\n",
    "\n",
    "## Using symmetries III\n",
    "\n",
    "  It is more efficient to use two-dimensional array data\n",
    "  structures, where the first index refers to the channel number and\n",
    "  the second refers to the element within that channel. So to access\n",
    "  matrix elements or $t$ amplitudes, you can loop over the channels\n",
    "  first, then the indices within that channel. To get an idea of the\n",
    "  savings using this block diagonal structure, let's look at a case\n",
    "  with a plane wave basis, with three momentum and one spin quantum\n",
    "  numbers, with an interaction that conserves linear momentum in all\n",
    "  three dimensions, as well as the total spin projection. Using 502\n",
    "  basis states, the TBME's require about 0.23 Gb of memory in block\n",
    "  diagonal form, which is an enormous saving from the 500 Gb mentioned\n",
    "  earlier in the na\\\"ive storage scheme.\n",
    "\n",
    "\n",
    "## Using intermediates\n",
    "\n",
    "  Since the calculation of all  zeros can now be avoided,\n",
    "  improvements in speed and memory will now follow. To get a handle on\n",
    "  how these CCD calculations are implemented we need only to look at the\n",
    "  most expensive sum in equation ([eq:ccd2](#eq:ccd2)). This corresponds to\n",
    "  the sum over $klcd$. Since this sum is repeated for all $i < j$ and\n",
    "  $a < b$, it means that these equations will scale as\n",
    "  $\\mathcal{O}(n_{p}^{4} n_{h}^{4})$. However,\n",
    "  they can be rewritten using intermediates as"
   ]
  },
  {
   "cell_type": "markdown",
   "metadata": {},
   "source": [
    "$$\n",
    "0 = \\langle ab|\\hat{v}|ij \\rangle + \\hat{P}(ab) \\sum_{c} \\langle b| \\chi\n",
    "    |c\\rangle \\langle ac| t |ij\\rangle - \\hat{P}(ij) \\sum_{k} \\langle k| \\chi |j\\rangle\n",
    "  \\langle ab| t |ik\\rangle  \\nonumber\n",
    "$$"
   ]
  },
  {
   "cell_type": "markdown",
   "metadata": {},
   "source": [
    "<!-- Equation labels as ordinary links -->\n",
    "<div id=\"_auto8\"></div>\n",
    "\n",
    "$$\n",
    "\\begin{equation}  + \\frac{1}{2}\\sum_{cd} \\langle ab|\n",
    "    \\chi |cd\\rangle \\langle cd| t |ij\\rangle + \\frac{1}{2} \\sum_{kl} \\langle ab| t\n",
    "    |kl\\rangle \\langle kl| \\chi |ij\\rangle \n",
    "\\label{_auto8} \\tag{14}\n",
    "\\end{equation}\n",
    "$$"
   ]
  },
  {
   "cell_type": "markdown",
   "metadata": {},
   "source": [
    "$$\n",
    "+ \\hat{P}(ij)\\hat{P}(ab) \\sum_{kc}\n",
    "  \\langle ac| t |ik\\rangle\\langle kb| \\chi |cj\\rangle  \\nonumber\n",
    "$$"
   ]
  },
  {
   "cell_type": "markdown",
   "metadata": {},
   "source": [
    "for all $i,j,a,b$.\n",
    "\n",
    "## Defining intermediates\n",
    "\n",
    "The intermediates $\\chi$ are defined as"
   ]
  },
  {
   "cell_type": "markdown",
   "metadata": {},
   "source": [
    "8\n",
    "1\n",
    " \n",
    "<\n",
    "<\n",
    "<\n",
    "!\n",
    "!\n",
    "M\n",
    "A\n",
    "T\n",
    "H\n",
    "_\n",
    "B\n",
    "L\n",
    "O\n",
    "C\n",
    "K"
   ]
  },
  {
   "cell_type": "markdown",
   "metadata": {},
   "source": [
    "8\n",
    "2\n",
    " \n",
    "<\n",
    "<\n",
    "<\n",
    "!\n",
    "!\n",
    "M\n",
    "A\n",
    "T\n",
    "H\n",
    "_\n",
    "B\n",
    "L\n",
    "O\n",
    "C\n",
    "K"
   ]
  },
  {
   "cell_type": "markdown",
   "metadata": {},
   "source": [
    "8\n",
    "3\n",
    " \n",
    "<\n",
    "<\n",
    "<\n",
    "!\n",
    "!\n",
    "M\n",
    "A\n",
    "T\n",
    "H\n",
    "_\n",
    "B\n",
    "L\n",
    "O\n",
    "C\n",
    "K"
   ]
  },
  {
   "cell_type": "markdown",
   "metadata": {},
   "source": [
    "8\n",
    "4\n",
    " \n",
    "<\n",
    "<\n",
    "<\n",
    "!\n",
    "!\n",
    "M\n",
    "A\n",
    "T\n",
    "H\n",
    "_\n",
    "B\n",
    "L\n",
    "O\n",
    "C\n",
    "K"
   ]
  },
  {
   "cell_type": "markdown",
   "metadata": {},
   "source": [
    "<!-- Equation labels as ordinary links -->\n",
    "<div id=\"_auto12\"></div>\n",
    "\n",
    "$$\n",
    "\\begin{equation}\n",
    "  \\langle ab| \\chi |cd\\rangle = \\langle ab|v|cd\\rangle\n",
    "\\label{_auto12} \\tag{19}\n",
    "\\end{equation}\n",
    "$$"
   ]
  },
  {
   "cell_type": "markdown",
   "metadata": {},
   "source": [
    "With the introduction of the above intermediates, the CCD equations scale now as $\\mathcal{O}(n_{h}^{2}n_{p}^{4})$.\n",
    "\n",
    "## Speed up\n",
    "\n",
    "To  further speed up these computations, we see that these sums can be\n",
    "  written in terms of  matrix-matrix multiplications. It is not obvious how to\n",
    "  write all of these sums in such a way, but it is useful to first\n",
    "  recall that the expression for the multiplication of two matrices $\\hat{C} =\\hat{A}\\times \\hat{B}$ can be written as"
   ]
  },
  {
   "cell_type": "markdown",
   "metadata": {},
   "source": [
    "<!-- Equation labels as ordinary links -->\n",
    "<div id=\"_auto13\"></div>\n",
    "\n",
    "$$\n",
    "\\begin{equation}\n",
    "  C_{ij} = \\sum_{k} A_{ik} \\times B_{kj}.\n",
    "\\label{_auto13} \\tag{20}\n",
    "\\end{equation}\n",
    "$$"
   ]
  },
  {
   "cell_type": "markdown",
   "metadata": {},
   "source": [
    "We observe then  that equation ([eq:mtxEx](#eq:mtxEx)) can be written as\n",
    "  \\[\n",
    "  \\langle K| \\chi |I\\rangle = \\langle K|v|I\\rangle  + \\frac{1}{2} \\sum_{C}\n",
    "  \\langle K|v|C\\rangle \\langle C|t|I\\rangle \n",
    "  \\]\n",
    "  by mapping the two index pairs $kl \\to K, ij \\to I, cd \\to C$. The sum looks now \n",
    "like a matrix-matrix multiplication. This is\n",
    "  useful because there are packages like BLAS (Basic Linear Algebra\n",
    "  Subprograms) which have extremely fast implementations of\n",
    "  matrix-matrix multiplication.\n",
    "\n",
    "\n",
    "<!-- !split  -->\n",
    "## Testing brute force against block structures for MBPT(2)\n",
    "\n",
    "<!-- dom:FIGURE: [figslides/blockvsfull_log.png, width=500 frac=0.6] MBPT2 contribution to the correlation for pure neutron matter with $N=14$ neutrons and periodic boundary conditions. Up to approximately 1600 single-particle states have been included in the sums over intermediate states. -->\n",
    "<!-- begin figure -->\n",
    "\n",
    "<p>MBPT2 contribution to the correlation for pure neutron matter with $N=14$ neutrons and periodic boundary conditions. Up to approximately 1600 single-particle states have been included in the sums over intermediate states.</p>\n",
    "<img src=\"figslides/blockvsfull_log.png\" width=500>\n",
    "\n",
    "<!-- end figure -->\n",
    "\n",
    "\n",
    "<!-- !split  -->\n",
    "## Convergence properties for pure neutron matter I\n",
    "\n",
    "<!-- dom:FIGURE: [figslides/fig1.pdf, width=500 frac=0.6] Energy per particle of pure neutron matter computed in the CCD approximation with the Minnesota potential for different numbers of particles with $\\mathrm{N_{max}=20}$. -->\n",
    "<!-- begin figure -->\n",
    "\n",
    "<p>Energy per particle of pure neutron matter computed in the CCD approximation with the Minnesota potential for different numbers of particles with $\\mathrm{N_{max}=20}$.</p>\n",
    "<img src=\"figslides/fig1.pdf\" width=500>\n",
    "\n",
    "<!-- end figure -->\n",
    "\n",
    "\n",
    "<!-- !split  -->\n",
    "## Convergence properties for pure neutron matter II\n",
    "\n",
    "\n",
    "<!-- dom:FIGURE: [figslides/fig2.pdf, width=500 frac=0.6] Energy per particle of pure neutron matter computed in the CCD approximation with the Minnesota potential for different model space sizes with $\\mathrm{A=114}$.  -->\n",
    "<!-- begin figure -->\n",
    "\n",
    "<p>Energy per particle of pure neutron matter computed in the CCD approximation with the Minnesota potential for different model space sizes with $\\mathrm{A=114}$.</p>\n",
    "<img src=\"figslides/fig2.pdf\" width=500>\n",
    "\n",
    "<!-- end figure -->\n",
    "\n",
    "\n",
    "\n",
    "<!-- !split  -->\n",
    "## Comparing CCD with Monte Carlo\n",
    "\n",
    "<!-- dom:FIGURE: [figslides/cimcccd.pdf, width=500 frac=0.6] CCD, Reference energy and Diffusion Monte Carlo results for pure neutron matter with $66$ neutrons and $\\mathrm{N_{max}=36}$. -->\n",
    "<!-- begin figure -->\n",
    "\n",
    "<p>CCD, Reference energy and Diffusion Monte Carlo results for pure neutron matter with $66$ neutrons and $\\mathrm{N_{max}=36}$.</p>\n",
    "<img src=\"figslides/cimcccd.pdf\" width=500>\n",
    "\n",
    "<!-- end figure -->"
   ]
  }
 ],
 "metadata": {},
 "nbformat": 4,
 "nbformat_minor": 0
}
